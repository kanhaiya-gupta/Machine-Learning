{
 "cells": [
  {
   "cell_type": "code",
   "execution_count": 1,
   "id": "3d74dbaa-a7ed-4d64-9a1a-50bf9538fd91",
   "metadata": {},
   "outputs": [
    {
     "ename": "SystemExit",
     "evalue": "0",
     "output_type": "error",
     "traceback": [
      "An exception has occurred, use %tb to see the full traceback.\n",
      "\u001b[1;31mSystemExit\u001b[0m\u001b[1;31m:\u001b[0m 0\n"
     ]
    },
    {
     "name": "stderr",
     "output_type": "stream",
     "text": [
      "C:\\Users\\kanha\\anaconda3\\envs\\fbsenv\\lib\\site-packages\\IPython\\core\\interactiveshell.py:3351: UserWarning: To exit: use 'exit', 'quit', or Ctrl-D.\n",
      "  warn(\"To exit: use 'exit', 'quit', or Ctrl-D.\", stacklevel=1)\n"
     ]
    }
   ],
   "source": [
    "import sys\n",
    "from PyQt5.QtWidgets import QApplication, QWidget, QVBoxLayout, QPushButton, QFileDialog, QLabel, QLineEdit\n",
    "\n",
    "class NeuralNetworkETLGUI(QWidget):\n",
    "    def __init__(self):\n",
    "        super().__init__()\n",
    "        self.initUI()\n",
    "    \n",
    "    def initUI(self):\n",
    "        layout = QVBoxLayout()\n",
    "        \n",
    "        # File Selection for ETL\n",
    "        self.file_label = QLabel(\"No file selected\", self)\n",
    "        layout.addWidget(self.file_label)\n",
    "        \n",
    "        self.file_button = QPushButton(\"Select File\", self)\n",
    "        self.file_button.clicked.connect(self.select_file)\n",
    "        layout.addWidget(self.file_button)\n",
    "        \n",
    "        # Neural Network Inputs\n",
    "        self.nn_input_label = QLabel(\"Neural Network Input:\", self)\n",
    "        layout.addWidget(self.nn_input_label)\n",
    "        \n",
    "        self.nn_input = QLineEdit(self)\n",
    "        layout.addWidget(self.nn_input)\n",
    "        \n",
    "        # Process Buttons\n",
    "        self.etl_button = QPushButton(\"Run ETL Process\", self)\n",
    "        self.etl_button.clicked.connect(self.run_etl)\n",
    "        layout.addWidget(self.etl_button)\n",
    "        \n",
    "        self.nn_button = QPushButton(\"Run Neural Network\", self)\n",
    "        self.nn_button.clicked.connect(self.run_nn)\n",
    "        layout.addWidget(self.nn_button)\n",
    "        \n",
    "        self.result_label = QLabel(\"\", self)\n",
    "        layout.addWidget(self.result_label)\n",
    "        \n",
    "        self.setLayout(layout)\n",
    "        self.setWindowTitle(\"Neural Network & ETL GUI\")\n",
    "    \n",
    "    def select_file(self):\n",
    "        options = QFileDialog.Options()\n",
    "        file_name, _ = QFileDialog.getOpenFileName(self, \"Select File\", \"\", \"CSV Files (*.csv);;All Files (*)\", options=options)\n",
    "        if file_name:\n",
    "            self.file_label.setText(f\"Selected: {file_name}\")\n",
    "    \n",
    "    def run_etl(self):\n",
    "        self.result_label.setText(\"ETL process started...\")\n",
    "        # Implement ETL process here\n",
    "    \n",
    "    def run_nn(self):\n",
    "        nn_input_value = self.nn_input.text()\n",
    "        self.result_label.setText(f\"Running NN with input: {nn_input_value}\")\n",
    "        # Implement Neural Network processing here\n",
    "\n",
    "if __name__ == \"__main__\":\n",
    "    app = QApplication(sys.argv)\n",
    "    gui = NeuralNetworkETLGUI()\n",
    "    gui.show()\n",
    "    sys.exit(app.exec_())\n"
   ]
  },
  {
   "cell_type": "code",
   "execution_count": null,
   "id": "b2955a7f-2799-4e06-a5f6-08c21e680bae",
   "metadata": {},
   "outputs": [],
   "source": []
  }
 ],
 "metadata": {
  "kernelspec": {
   "display_name": "Python [conda env:fbsenv]",
   "language": "python",
   "name": "conda-env-fbsenv-py"
  },
  "language_info": {
   "codemirror_mode": {
    "name": "ipython",
    "version": 3
   },
   "file_extension": ".py",
   "mimetype": "text/x-python",
   "name": "python",
   "nbconvert_exporter": "python",
   "pygments_lexer": "ipython3",
   "version": "3.6.13"
  }
 },
 "nbformat": 4,
 "nbformat_minor": 5
}
