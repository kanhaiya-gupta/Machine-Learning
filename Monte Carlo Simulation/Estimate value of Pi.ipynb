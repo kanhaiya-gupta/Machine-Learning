{
 "cells": [
  {
   "cell_type": "code",
   "execution_count": 1,
   "id": "1f5e8182-fa76-48b4-b527-4690947ba65b",
   "metadata": {},
   "outputs": [
    {
     "name": "stdout",
     "output_type": "stream",
     "text": [
      "Final Estimation of Pi= 3.139376\n"
     ]
    }
   ],
   "source": [
    "import numpy as np\n",
    "from numpy import random\n",
    "\n",
    "INTERVAL = 1000\n",
    "\n",
    "circle_points = 0\n",
    "square_points = 0\n",
    "\n",
    "# Total Random numbers generated= possible x\n",
    "# values* possible y values\n",
    "for i in range(INTERVAL**2):\n",
    "\n",
    "\t# Randomly generated x and y values from a\n",
    "\t# uniform distribution\n",
    "\t# Range of x and y values is -1 to 1\n",
    "\trand_x = random.uniform(-1, 1)\n",
    "\trand_y = random.uniform(-1, 1)\n",
    "\n",
    "\t# Distance between (x, y) from the origin\n",
    "\torigin_dist = rand_x**2 + rand_y**2\n",
    "\n",
    "\t# Checking if (x, y) lies inside the circle\n",
    "\tif origin_dist <= 1:\n",
    "\t\tcircle_points += 1\n",
    "\n",
    "\tsquare_points += 1\n",
    "\n",
    "\t# Estimating value of pi,\n",
    "\t# pi= 4*(no. of points generated inside the\n",
    "\t# circle)/ (no. of points generated inside the square)\n",
    "\tpi = 4 * circle_points / square_points\n",
    "\n",
    "## print(rand_x, rand_y, circle_points, square_points, \"-\", pi)\n",
    "# print(\"\\n\")\n",
    "\n",
    "print(\"Final Estimation of Pi=\", pi)\n"
   ]
  },
  {
   "cell_type": "code",
   "execution_count": null,
   "id": "540a3415-207b-4ed9-ad97-291779133895",
   "metadata": {},
   "outputs": [],
   "source": []
  }
 ],
 "metadata": {
  "kernelspec": {
   "display_name": "Python [conda env:base] *",
   "language": "python",
   "name": "conda-base-py"
  },
  "language_info": {
   "codemirror_mode": {
    "name": "ipython",
    "version": 3
   },
   "file_extension": ".py",
   "mimetype": "text/x-python",
   "name": "python",
   "nbconvert_exporter": "python",
   "pygments_lexer": "ipython3",
   "version": "3.12.3"
  }
 },
 "nbformat": 4,
 "nbformat_minor": 5
}
