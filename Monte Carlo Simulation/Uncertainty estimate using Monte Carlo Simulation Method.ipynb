{
 "cells": [
  {
   "cell_type": "markdown",
   "id": "c98f22fd-767d-4637-8f0c-ab0ca8ee9cb5",
   "metadata": {},
   "source": [
    "# Step 1\n",
    "* Get the experimental data\n",
    "* Choose the model or the theory that estimate the data\n",
    "* Find the parameters governing the theory A, sig_A , B, sig_B, ......\n",
    "* Simulate the Gaussian distribution of each parameter\n",
    "* Estimtate the function for the generated parameters\n",
    "* Find the uncertainty of the function\n",
    "\n",
    "## Simulate the Gaussian distribution of each parameter\n",
    "* A_MC = A + sig_A * np.random.normal(size = N)\n",
    "* B_MC = B + sig_B * np.random.normal(size = N)\n",
    "* ...\n",
    "\n",
    "## Estimtate the function for the generated parameters\n",
    "* range of dependent variable: x\n",
    "* y = function(x, A_MC, B_MC)\n",
    "* Estimate the uncertainty of y from y_1, y_2, y_3, ..., "
   ]
  },
  {
   "cell_type": "code",
   "execution_count": null,
   "id": "3634af0f-1e68-4ca5-9fce-f983a2930a53",
   "metadata": {},
   "outputs": [],
   "source": []
  }
 ],
 "metadata": {
  "kernelspec": {
   "display_name": "Python [conda env:base] *",
   "language": "python",
   "name": "conda-base-py"
  },
  "language_info": {
   "codemirror_mode": {
    "name": "ipython",
    "version": 3
   },
   "file_extension": ".py",
   "mimetype": "text/x-python",
   "name": "python",
   "nbconvert_exporter": "python",
   "pygments_lexer": "ipython3",
   "version": "3.12.3"
  }
 },
 "nbformat": 4,
 "nbformat_minor": 5
}
