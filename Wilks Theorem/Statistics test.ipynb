{
 "cells": [
  {
   "cell_type": "code",
   "execution_count": 93,
   "id": "5c282794-d30b-402b-85df-8ec1df138d6e",
   "metadata": {},
   "outputs": [],
   "source": [
    "import numpy as np\n",
    "from scipy import stats\n",
    "from scipy.stats import norm\n",
    "from numpy import inf\n",
    "import matplotlib.pyplot as plt"
   ]
  },
  {
   "cell_type": "code",
   "execution_count": 94,
   "id": "d63efc17-aa61-4f4b-b17e-530d1cc93b65",
   "metadata": {},
   "outputs": [
    {
     "data": {
      "text/plain": [
       "array([1.])"
      ]
     },
     "execution_count": 94,
     "metadata": {},
     "output_type": "execute_result"
    }
   ],
   "source": [
    "p_val_wilk = [0.15865525393145707]\n",
    "p_val_wilk = np.array(p_val_wilk)\n",
    "\n",
    "Z = stats.norm.ppf(1. - p_val_wilk)\n",
    "Z"
   ]
  },
  {
   "cell_type": "code",
   "execution_count": 95,
   "id": "c9ed7064-f93e-4535-a44f-d2f3a6510bbf",
   "metadata": {},
   "outputs": [
    {
     "name": "stdout",
     "output_type": "stream",
     "text": [
      "0.15865525393145707\n"
     ]
    }
   ],
   "source": [
    "p_val = 1. - norm.cdf(1)\n",
    "print(p_val)"
   ]
  },
  {
   "cell_type": "code",
   "execution_count": 127,
   "id": "7231fbf5-280b-47b0-a10d-a09a0f8fec27",
   "metadata": {},
   "outputs": [
    {
     "name": "stdout",
     "output_type": "stream",
     "text": [
      "P-value:  [5.00000000e-01 1.58655254e-01 2.27501319e-02 1.34989803e-03\n",
      " 3.16712418e-05 2.86651572e-07 9.86587700e-10 1.27986510e-12\n",
      " 6.66133815e-16 0.00000000e+00 0.00000000e+00]\n",
      "P-value percent:  [50.   15.87  2.28  0.13  0.    0.    0.    0.    0.    0.    0.  ]\n"
     ]
    }
   ],
   "source": [
    "Z = [0, 1, 2, 3, 4, 5, 6, 7, 8, 9, 10]\n",
    "Z = np.array(Z)\n",
    "\n",
    "p_val = 1. - norm.cdf(Z)\n",
    "p_val_percent = p_val * 100\n",
    "p_val_percent  = np.round(p_val_percent , 2) \n",
    "\n",
    "print(\"P-value: \", p_val)\n",
    "print(\"P-value percent: \", p_val_percent)"
   ]
  },
  {
   "cell_type": "code",
   "execution_count": 121,
   "id": "d76f4a02-3670-4444-8530-a70cc61ef6fc",
   "metadata": {},
   "outputs": [
    {
     "data": {
      "image/png": "[encoded data removed]",
      "text/plain": [
       "<Figure size 640x480 with 1 Axes>"
      ]
     },
     "metadata": {},
     "output_type": "display_data"
    }
   ],
   "source": [
    "plt.axhline(y = p_val[0], color = 'r', linestyle = '--',  linewidth = 2) \n",
    "plt.axhline(y = p_val[1], color = 'r', linestyle = '--',  linewidth = 2) \n",
    "plt.axhline(y = p_val[2], color = 'r', linestyle = '--',  linewidth = 2) \n",
    "plt.axhline(y = p_val[3], color = 'r', linestyle = '--',  linewidth = 2) \n",
    "plt.axhline(y = p_val[4], color = 'r', linestyle = '--',  linewidth = 2) \n",
    "plt.axhline(y = p_val[5], color = 'r', linestyle = '--',  linewidth = 2) \n",
    "plt.axhline(y = p_val[6], color = 'r', linestyle = '--',  linewidth = 2) \n",
    "plt.axhline(y = p_val[7], color = 'r', linestyle = '--',  linewidth = 2) \n",
    "\n",
    "plt.ylim(0.5, 1.27986510e-10)\n",
    "\n",
    "plt.show()"
   ]
  },
  {
   "cell_type": "code",
   "execution_count": null,
   "id": "412c699a-2f8d-4636-be4e-dabfe601ca74",
   "metadata": {},
   "outputs": [],
   "source": []
  },
  {
   "cell_type": "code",
   "execution_count": null,
   "id": "47d9e9d6-9ec0-4761-84f7-c14d50232843",
   "metadata": {},
   "outputs": [],
   "source": []
  }
 ],
 "metadata": {
  "kernelspec": {
   "display_name": "Python [conda env:base] *",
   "language": "python",
   "name": "conda-base-py"
  },
  "language_info": {
   "codemirror_mode": {
    "name": "ipython",
    "version": 3
   },
   "file_extension": ".py",
   "mimetype": "text/x-python",
   "name": "python",
   "nbconvert_exporter": "python",
   "pygments_lexer": "ipython3",
   "version": "3.12.3"
  }
 },
 "nbformat": 4,
 "nbformat_minor": 5
}
