{
 "cells": [
  {
   "cell_type": "markdown",
   "id": "4eb9b361-94d6-4ba7-8bd0-eabf81a2f200",
   "metadata": {},
   "source": [
    "### https://indico.global/category/301/attachments/16304/26266/Statistics_Fitting_II.pdf"
   ]
  },
  {
   "cell_type": "code",
   "execution_count": 214,
   "id": "88f91657-d789-43dc-a2dd-a0d6e1871134",
   "metadata": {},
   "outputs": [],
   "source": [
    "import numpy as np\n",
    "from numpy import random\n",
    "import matplotlib.pyplot as plt\n",
    "import pandas as pd\n",
    "from scipy.special import erfinv, erf\n",
    "from scipy.optimize import curve_fit\n",
    "from scipy.optimize import minimize\n",
    "from scipy import stats\n",
    "from scipy.special import gammaincinv\n",
    "from scipy.special import factorial #as fact"
   ]
  },
  {
   "cell_type": "code",
   "execution_count": 216,
   "id": "607f4bcc-77e9-404d-9c00-01f7162a0308",
   "metadata": {},
   "outputs": [],
   "source": [
    "np.random.seed(2147483648)\n",
    "\n",
    "\n",
    "N1 = 250\n",
    "N2 = 50\n",
    "mu_a1, sigma_a1 = 90, 20\n",
    "mu_a2, sigma_a2 = 150, 20\n",
    "X1_N1_a = np.random.normal(mu_a1, sigma_a1, N1)\n",
    "X2_N1_a = np.random.normal(mu_a2, sigma_a2, N2)\n",
    "X01_a = np.concatenate([X1_N1_a, X2_N1_a])\n",
    "\n",
    "\n",
    "\n",
    "N1 = 50\n",
    "N2 = 250\n",
    "mu_a1, sigma_a1 = 90, 20\n",
    "mu_a2, sigma_a2 = 160, 20\n",
    "X1_N1_a = np.random.normal(mu_a1, sigma_a1, N1)\n",
    "X2_N1_a = np.random.normal(mu_a2, sigma_a2, N2)\n",
    "X01_b = np.concatenate([X1_N1_a, X2_N1_a])\n",
    "\n",
    "\n",
    "counts_X1, bins_X1 = np.histogram(X01_a, bins = 15,  density=False)\n",
    "counts_X2, bins_X2 = np.histogram(X01_b, bins = 15,  density=False)\n",
    "\n",
    "counts_X0, bin_X0 = np.histogram(X01_a, bins = 11,  density=False)\n",
    "counts_X1, bin_X1 = np.histogram(X01_b, bins = 11,  density=False)\n",
    "bins_X0 = (bin_X0[1:] + bin_X0[:-1]) / 2\n",
    "bins_X1 = (bin_X1[1:] + bin_X1[:-1]) / 2"
   ]
  },
  {
   "cell_type": "code",
   "execution_count": 218,
   "id": "579ee1c9-b1cf-4d17-8587-627180c1d9db",
   "metadata": {},
   "outputs": [
    {
     "data": {
      "text/plain": [
       "array([1.22910267e+003, 7.08543836e+011, 8.19504487e+064, 1.35891650e+119,\n",
       "       4.99290560e+125, 3.25610531e+115, 8.87155674e+049, 8.81598306e+031,\n",
       "       2.67007182e+030, 1.34816133e+022, 9.87299029e+017])"
      ]
     },
     "execution_count": 218,
     "metadata": {},
     "output_type": "execute_result"
    }
   ],
   "source": [
    "(bins_X0)**counts_X0"
   ]
  },
  {
   "cell_type": "code",
   "execution_count": 220,
   "id": "182c2dd4-e9a3-449a-be51-b8eb6ea70439",
   "metadata": {},
   "outputs": [
    {
     "data": {
      "text/plain": [
       "array([ 2,  7, 36, 63, 64, 57, 24, 15, 14, 10,  8], dtype=int64)"
      ]
     },
     "execution_count": 220,
     "metadata": {},
     "output_type": "execute_result"
    }
   ],
   "source": [
    "counts_X0"
   ]
  },
  {
   "cell_type": "code",
   "execution_count": 222,
   "id": "259d671b-4f0e-424c-a4d1-e21d9e9d912c",
   "metadata": {},
   "outputs": [
    {
     "data": {
      "text/plain": [
       "-356.3432915954693"
      ]
     },
     "execution_count": 222,
     "metadata": {},
     "output_type": "execute_result"
    }
   ],
   "source": [
    "f0 = ((bins_X0)**counts_X0 * np.exp(-bins_X0))/factorial(counts_X0)\n",
    "f1 = ((bins_X1)**counts_X1 * np.exp(-bins_X1))/factorial(counts_X1)\n",
    "ln_0 = np.sum(np.log(f0)) \n",
    "ln_1 = np.sum(np.log(f1)) \n",
    "\n",
    "lnrt2 = 2 * (ln_1 - ln_0)\n",
    "\n",
    "lnrt2"
   ]
  },
  {
   "cell_type": "code",
   "execution_count": null,
   "id": "57acea67-ad64-4565-8246-abbb09f7ec99",
   "metadata": {},
   "outputs": [],
   "source": []
  },
  {
   "cell_type": "code",
   "execution_count": null,
   "id": "24861507-072e-44d5-8401-711ce5f0c67c",
   "metadata": {},
   "outputs": [],
   "source": []
  },
  {
   "cell_type": "code",
   "execution_count": 226,
   "id": "f4b65cc5-004f-418e-a1f1-4b893cf4497a",
   "metadata": {},
   "outputs": [],
   "source": [
    "N1 = 50\n",
    "N2 = 250\n",
    "mu_a1, sigma_a1 = 90, 20\n",
    "mu_a2, sigma_a2 = 160, 20\n",
    "X1_N1_a = np.random.normal(mu_a1, sigma_a1, N1)\n",
    "\n",
    "alpha_range = np.linspace(60, 170.0, 100)\n",
    "parameter = [(np.concatenate([X1_N1_a, np.random.normal(mu, sigma_a2, N2)])) for mu in alpha_range]   # mu_0 = 1.98, sig_0 = sig_"
   ]
  },
  {
   "cell_type": "code",
   "execution_count": 228,
   "id": "1db5edd9-8477-4cc0-82da-a8ac632adae7",
   "metadata": {},
   "outputs": [
    {
     "data": {
      "text/plain": [
       "300"
      ]
     },
     "execution_count": 228,
     "metadata": {},
     "output_type": "execute_result"
    }
   ],
   "source": [
    "len(parameter[0])"
   ]
  },
  {
   "cell_type": "code",
   "execution_count": 230,
   "id": "07b058de-63b2-4878-831c-0bb2c682a1bc",
   "metadata": {},
   "outputs": [],
   "source": [
    "def wilk_theorem_poission(X0, X1):\n",
    "    counts_X0, bin_X0 = np.histogram(X0, bins = 15,  density=False)\n",
    "    counts_X1, bin_X1 = np.histogram(X1, bins = 15,  density=False)\n",
    "\n",
    "    bins_X0 = (bin_X0[1:] + bin_X0[:-1]) / 2\n",
    "    bins_X1 = (bin_X1[1:] + bin_X1[:-1]) / 2\n",
    "\n",
    "    f0 = ((bins_X0)**counts_X0 * np.exp(-bins_X0))/factorial(counts_X0)\n",
    "    f1 = ((bins_X1)**counts_X1 * np.exp(-bins_X1))/factorial(counts_X1)\n",
    "    ln_0 = np.sum(np.log(f0)) \n",
    "    ln_1 = np.sum(np.log(f1)) \n",
    "\n",
    "    lnrt2 = 2 * (ln_1 - ln_0)\n",
    "    return lnrt2"
   ]
  },
  {
   "cell_type": "code",
   "execution_count": null,
   "id": "3bcda10d-b248-4de6-96d8-2a62435025a6",
   "metadata": {},
   "outputs": [],
   "source": [
    "for par in parameter:\n",
    "    test = wilk_theorem_poission(X0, X1):"
   ]
  },
  {
   "cell_type": "code",
   "execution_count": 233,
   "id": "94e9d573-bf45-466e-b4fc-991708d11cfd",
   "metadata": {},
   "outputs": [
    {
     "name": "stdout",
     "output_type": "stream",
     "text": [
      "20.0\n"
     ]
    }
   ],
   "source": [
    "print(np.mean(counts_X2))"
   ]
  },
  {
   "cell_type": "code",
   "execution_count": 235,
   "id": "b8e8fc4a-9387-4ee7-bc9c-df82d2c788af",
   "metadata": {},
   "outputs": [],
   "source": [
    "alpha_0 = 90\n",
    "alpha_1 = 150\n",
    "X = counts_X2\n",
    "parms = alpha_0, alpha_1\n",
    "#lrt2 = wilk_theorem_poission(pX)\n",
    "#lrt2"
   ]
  },
  {
   "cell_type": "code",
   "execution_count": 237,
   "id": "b3419b5c-361c-4d0a-a0ee-53efcc4afc55",
   "metadata": {},
   "outputs": [
    {
     "name": "stdout",
     "output_type": "stream",
     "text": [
      "Degree of freedom:  1\n",
      "The value of chi-square at alpha = 95 % :  3.841458820694124\n",
      "The respective reduced chi-square value:  3.841458820694124\n"
     ]
    }
   ],
   "source": [
    "# 95% CL \n",
    "\n",
    "dof_wilk = 1\n",
    "\n",
    "alpha_95 = 5 # in percent\n",
    "k = dof_wilk\n",
    "x = alpha_95/100\n",
    "isf_95 = 2 * gammaincinv(k/2, 1-x)\n",
    "\n",
    "print(\"Degree of freedom: \", dof_wilk)\n",
    "print(r\"The value of chi-square at alpha = 95 % : \", isf_95)\n",
    "print(r\"The respective reduced chi-square value: \", isf_95/dof_wilk)\n"
   ]
  },
  {
   "cell_type": "code",
   "execution_count": 239,
   "id": "1a24e27f-b62d-4ab5-9748-8991e81283df",
   "metadata": {},
   "outputs": [
    {
     "name": "stdout",
     "output_type": "stream",
     "text": [
      "The index where -2 log likelihood ratio above the critical values:  [ 0  1  3  4  5  6  7  8  9 10 11 12 16 17 18 54 56 57 59 60]\n",
      "The values of the parameters above at intersection:  [ 20.          21.61616162  24.84848485  26.46464646  28.08080808\n",
      "  29.6969697   31.31313131  32.92929293  34.54545455  36.16161616\n",
      "  37.77777778  39.39393939  45.85858586  47.47474747  49.09090909\n",
      " 107.27272727 110.50505051 112.12121212 115.35353535 116.96969697]\n"
     ]
    },
    {
     "name": "stderr",
     "output_type": "stream",
     "text": [
      "C:\\Users\\kanha\\AppData\\Local\\Temp\\ipykernel_3836\\924504353.py:11: RuntimeWarning: invalid value encountered in log\n",
      "  ln_1 = np.sum(np.log(f1))\n"
     ]
    }
   ],
   "source": [
    "# Make this more efficient by holding value only if bigger than prev value\n",
    "log_likelihood_ratio = []\n",
    "params = []\n",
    "p_val_wilk = []\n",
    "dof_wilk = 1\n",
    "\n",
    "\n",
    "\n",
    "\n",
    "N1 = 50\n",
    "N2 = 250\n",
    "mu_a1, sigma_a1 = 90, 20\n",
    "mu_a2, sigma_a2 = 160, 20\n",
    "X1_N1_a = np.random.normal(mu_a1, sigma_a1, N1)\n",
    "\n",
    "alpha_range = np.linspace(20, 180.0, 100)\n",
    "parameter = [(np.concatenate([X1_N1_a, np.random.normal(mu, sigma_a2, N2)])) for mu in alpha_range]   # mu_0 = 1.98, sig_0 = sig_\n",
    "\n",
    "\n",
    "\n",
    "for par in parameter:\n",
    "    lrt2 = wilk_theorem_poission(X01_a, par)\n",
    "    log_likelihood_ratio.append(lrt2)\n",
    "    p_value = 1 - stats.chi2.cdf(lrt2 , dof_wilk)\n",
    "    p_value_percent = p_value * 100\n",
    "    p_val_wilk.append(p_value)\n",
    "\n",
    "p_val_wilk = np.array(p_val_wilk)\n",
    "\n",
    "idx = np.argwhere(np.diff(np.sign(log_likelihood_ratio - isf_95))).flatten()\n",
    "\n",
    "\n",
    "#print(\"The -2 log likelihood ratio above zero: \", log_likelihood_ratio[log_likelihood_ratio > 0])\n",
    "\n",
    "#print(\"The -2 log likelihood ratio above the critical values: \", log_likelihood_ratio[log_likelihood_ratio > isf_70])\n",
    "\n",
    "Z = [0, 1, 2, 3, 4, 5, 6, 7, 8, 9, 10]\n",
    "Z = np.array(Z)\n",
    "p_val_Z = 1. - stats.norm.cdf(Z)\n",
    "#print(p_val_Z)\n",
    "\n",
    "\n",
    "print(\"The index where -2 log likelihood ratio above the critical values: \", idx)\n",
    "print(\"The values of the parameters above at intersection: \", alpha_range[idx])\n",
    "\n",
    "#print(mu_)"
   ]
  },
  {
   "cell_type": "code",
   "execution_count": 249,
   "id": "b7693392-356e-434d-beeb-c28a454d590d",
   "metadata": {},
   "outputs": [
    {
     "data": {
      "text/plain": [
       "array([           nan,            nan, 0.00000000e+00, 0.00000000e+00,\n",
       "                  nan, 0.00000000e+00,            nan,            nan,\n",
       "                  nan,            nan, 0.00000000e+00,            nan,\n",
       "                  nan, 0.00000000e+00, 0.00000000e+00, 0.00000000e+00,\n",
       "       0.00000000e+00,            nan,            nan, 0.00000000e+00,\n",
       "       0.00000000e+00, 0.00000000e+00, 0.00000000e+00, 0.00000000e+00,\n",
       "       0.00000000e+00, 0.00000000e+00, 0.00000000e+00, 0.00000000e+00,\n",
       "       0.00000000e+00, 0.00000000e+00, 0.00000000e+00, 0.00000000e+00,\n",
       "       0.00000000e+00, 0.00000000e+00, 0.00000000e+00, 0.00000000e+00,\n",
       "       0.00000000e+00, 0.00000000e+00, 0.00000000e+00, 0.00000000e+00,\n",
       "       0.00000000e+00, 0.00000000e+00, 0.00000000e+00, 0.00000000e+00,\n",
       "       0.00000000e+00, 0.00000000e+00, 0.00000000e+00, 0.00000000e+00,\n",
       "       0.00000000e+00, 0.00000000e+00, 0.00000000e+00, 0.00000000e+00,\n",
       "       0.00000000e+00, 4.32986980e-15, 0.00000000e+00, 1.00000000e+00,\n",
       "       1.00000000e+00, 0.00000000e+00, 1.00000000e+00, 1.00000000e+00,\n",
       "       0.00000000e+00, 1.00000000e+00, 1.00000000e+00, 1.00000000e+00,\n",
       "       1.00000000e+00, 1.85506625e-01, 1.00000000e+00, 1.00000000e+00,\n",
       "       1.00000000e+00, 1.00000000e+00, 1.00000000e+00, 1.00000000e+00,\n",
       "       1.00000000e+00, 1.00000000e+00, 1.00000000e+00, 1.00000000e+00,\n",
       "       1.00000000e+00, 1.00000000e+00, 1.00000000e+00, 1.00000000e+00,\n",
       "       1.00000000e+00, 1.00000000e+00, 1.00000000e+00, 1.00000000e+00,\n",
       "       1.00000000e+00, 1.00000000e+00, 1.00000000e+00, 1.00000000e+00,\n",
       "       1.00000000e+00, 1.00000000e+00, 1.00000000e+00, 1.00000000e+00,\n",
       "       1.00000000e+00, 1.00000000e+00, 1.00000000e+00, 1.00000000e+00,\n",
       "       1.00000000e+00, 1.00000000e+00, 1.00000000e+00, 1.00000000e+00])"
      ]
     },
     "execution_count": 249,
     "metadata": {},
     "output_type": "execute_result"
    }
   ],
   "source": [
    "p_val_wilk"
   ]
  },
  {
   "cell_type": "code",
   "execution_count": 251,
   "id": "8c52750b-ee36-461c-9b16-5191dcd0c835",
   "metadata": {},
   "outputs": [
    {
     "data": {
      "image/png": "[encoded data removed]",
      "text/plain": [
       "<Figure size 640x480 with 1 Axes>"
      ]
     },
     "metadata": {},
     "output_type": "display_data"
    }
   ],
   "source": [
    "plt.plot(alpha_range, log_likelihood_ratio, 'b',  linewidth=2, label=r'$\\mathregular{-2 \\ln(\\Lambda)}$', alpha=1.0)\n",
    "plt.grid()\n",
    "plt.show()"
   ]
  },
  {
   "cell_type": "code",
   "execution_count": 253,
   "id": "d53422ad-36cf-47b9-aeda-12b8c5b95c69",
   "metadata": {},
   "outputs": [
    {
     "data": {
      "image/png": "[encoded data removed]",
      "text/plain": [
       "<Figure size 640x480 with 1 Axes>"
      ]
     },
     "metadata": {},
     "output_type": "display_data"
    }
   ],
   "source": [
    "plt.plot(alpha_range, p_val_wilk, 'b',  linewidth=2, label=r'$\\mathregular{-2 \\ln(\\Lambda)}$', alpha=1.0)\n",
    "           \n",
    "#plt.axhline(y = p_val_Z[0], color = 'black', linestyle = '--',  linewidth = 2, alpha = 0.4) \n",
    "plt.axhline(y = p_val_Z[1], color = 'black', linestyle = \"dotted\",  linewidth = 2, alpha = 0.4) \n",
    "plt.axhline(y = p_val_Z[2], color = 'black', linestyle = \"dotted\",  linewidth = 2, alpha = 0.4) \n",
    "plt.axhline(y = p_val_Z[3], color = 'black', linestyle = \"dotted\",  linewidth = 2, alpha = 0.4) \n",
    "plt.axhline(y = p_val_Z[4], color = 'black', linestyle = \"dotted\",  linewidth = 2, alpha = 0.4) \n",
    "plt.axhline(y = p_val_Z[5], color = 'black', linestyle = \"dotted\",  linewidth = 2, alpha = 0.4) \n",
    "plt.axhline(y = p_val_Z[6], color = 'black', linestyle = \"dotted\",  linewidth = 2, alpha = 0.4) \n",
    "#plt.axhline(y = p_val_Z[7], color = 'black', linestyle = \"dashed\",  linewidth = 2, alpha = 0.4)\n",
    "\n",
    "plt.yscale('log')\n",
    "plt.grid()\n",
    "plt.xlabel(\"Parameter of interest (measured parameter)\")\n",
    "plt.ylabel(\"P-value\")\n",
    "\n",
    "# plt.text(3.12, 1.5e-01, r\"$1 \\sigma$\")\n",
    "# plt.text(3.12, 2.2e-02, r\"$2 \\sigma$\")\n",
    "# plt.text(3.12, 1.3e-03, r\"$3 \\sigma$\")\n",
    "# plt.text(3.12, 3.1e-05, r\"$4 \\sigma$\")\n",
    "# plt.text(3.12, 2.8e-07, r\"$5 \\sigma$\")\n",
    "# plt.text(3.12, 9.8e-10, r\"$6 \\sigma$\")\n",
    "# #plt.text(3.12, 1.5e-01, r\"$7 \\sigma$\")\n",
    "\n",
    "# plt.text(1.1, 1.81e-01, \"15.87%\")\n",
    "# plt.text(1.1, 2.80e-02, \"2.28%\")\n",
    "# plt.text(1.1, 1.60e-03, \"0.13%\")\n",
    "# plt.text(1.1, 3.80e-05, \"0.00%\")\n",
    "# plt.text(1.1, 3.6e-07, \"0.00%\")\n",
    "# plt.text(1.1, 11.96e-10, \"0.00%\")\n",
    "\n",
    "\n",
    "#plt.savefig(\"./Images/P_value_Bimodal.png\",  bbox_inches='tight', dpi = 400)\n",
    "plt.show()"
   ]
  },
  {
   "cell_type": "code",
   "execution_count": 255,
   "id": "e82a8988-3178-4b26-b25b-d4457f500313",
   "metadata": {},
   "outputs": [
    {
     "data": {
      "image/png": "[encoded data removed]",
      "text/plain": [
       "<Figure size 640x480 with 1 Axes>"
      ]
     },
     "metadata": {},
     "output_type": "display_data"
    }
   ],
   "source": [
    "plt.hist(X01_a, bins = 15,  density=False)\n",
    "plt.show()"
   ]
  },
  {
   "cell_type": "code",
   "execution_count": 84,
   "id": "c3bf4a6f-dbeb-4f93-b822-58388c62a378",
   "metadata": {},
   "outputs": [
    {
     "data": {
      "image/png": "[encoded data removed]",
      "text/plain": [
       "<Figure size 640x480 with 1 Axes>"
      ]
     },
     "metadata": {},
     "output_type": "display_data"
    }
   ],
   "source": [
    "plt.hist(X01_b, bins = 15,  density=False)\n",
    "plt.show()"
   ]
  },
  {
   "cell_type": "code",
   "execution_count": 85,
   "id": "b354975d-5f83-4665-935f-71602291237b",
   "metadata": {},
   "outputs": [
    {
     "data": {
      "text/plain": [
       "array([ 1,  3,  6, 29, 42, 50, 53, 40, 16, 18, 10, 11,  8,  6,  7],\n",
       "      dtype=int64)"
      ]
     },
     "execution_count": 85,
     "metadata": {},
     "output_type": "execute_result"
    }
   ],
   "source": [
    "counts_X1"
   ]
  },
  {
   "cell_type": "code",
   "execution_count": null,
   "id": "1d1bc96d-c927-45d1-8eee-2959422665e4",
   "metadata": {},
   "outputs": [],
   "source": []
  },
  {
   "cell_type": "code",
   "execution_count": null,
   "id": "d57ee51a-ae4d-4a90-b516-23151810f2bc",
   "metadata": {},
   "outputs": [],
   "source": []
  },
  {
   "cell_type": "code",
   "execution_count": 13,
   "id": "baf0d7de-30aa-4f70-97e5-9263c65aff03",
   "metadata": {},
   "outputs": [
    {
     "data": {
      "text/plain": [
       "array([ 1,  9,  9, 11, 11,  5, 15, 27, 53, 47, 52, 31, 17,  7,  5],\n",
       "      dtype=int64)"
      ]
     },
     "execution_count": 13,
     "metadata": {},
     "output_type": "execute_result"
    }
   ],
   "source": [
    "counts_X2"
   ]
  },
  {
   "cell_type": "code",
   "execution_count": 14,
   "id": "fc142822-5a03-4eb6-b174-17b822bed738",
   "metadata": {},
   "outputs": [
    {
     "data": {
      "text/plain": [
       "array([ 53.95154857,  64.77842956,  75.60531055,  86.43219153,\n",
       "        97.25907252, 108.08595351, 118.9128345 , 129.73971549,\n",
       "       140.56659648, 151.39347747, 162.22035845, 173.04723944,\n",
       "       183.87412043, 194.70100142, 205.52788241, 216.3547634 ])"
      ]
     },
     "execution_count": 14,
     "metadata": {},
     "output_type": "execute_result"
    }
   ],
   "source": [
    "bins_X2"
   ]
  },
  {
   "cell_type": "code",
   "execution_count": null,
   "id": "9f5be547-d4bd-4719-aca6-f668fe6783bd",
   "metadata": {},
   "outputs": [],
   "source": []
  },
  {
   "cell_type": "code",
   "execution_count": 15,
   "id": "39dca09b-553e-4550-badc-dece33e894a3",
   "metadata": {},
   "outputs": [],
   "source": [
    "N1 = np.sum(counts_X1)\n",
    "N2 = np.sum(counts_X2)"
   ]
  },
  {
   "cell_type": "code",
   "execution_count": 16,
   "id": "5930e0a1-7d68-431c-94a8-8ad3b1429956",
   "metadata": {},
   "outputs": [
    {
     "data": {
      "text/plain": [
       "array([0.00333333, 0.03      , 0.03      , 0.03666667, 0.03666667,\n",
       "       0.01666667, 0.05      , 0.09      , 0.17666667, 0.15666667,\n",
       "       0.17333333, 0.10333333, 0.05666667, 0.02333333, 0.01666667])"
      ]
     },
     "execution_count": 16,
     "metadata": {},
     "output_type": "execute_result"
    }
   ],
   "source": [
    "p1 = counts_X1/N1\n",
    "p2 = counts_X2/N2\n",
    "p2"
   ]
  },
  {
   "cell_type": "code",
   "execution_count": null,
   "id": "77d914be-248f-41c0-8178-1f77339b9bad",
   "metadata": {},
   "outputs": [],
   "source": []
  },
  {
   "cell_type": "code",
   "execution_count": null,
   "id": "784f1300-18e3-4455-bb0d-d08d7f4499cd",
   "metadata": {},
   "outputs": [],
   "source": []
  },
  {
   "cell_type": "code",
   "execution_count": null,
   "id": "8bd1612e-c250-4718-b1d3-f03cc1257eb9",
   "metadata": {},
   "outputs": [],
   "source": []
  }
 ],
 "metadata": {
  "kernelspec": {
   "display_name": "Python [conda env:base] *",
   "language": "python",
   "name": "conda-base-py"
  },
  "language_info": {
   "codemirror_mode": {
    "name": "ipython",
    "version": 3
   },
   "file_extension": ".py",
   "mimetype": "text/x-python",
   "name": "python",
   "nbconvert_exporter": "python",
   "pygments_lexer": "ipython3",
   "version": "3.12.3"
  }
 },
 "nbformat": 4,
 "nbformat_minor": 5
}
