{
 "cells": [
  {
   "cell_type": "code",
   "execution_count": 19,
   "id": "86b85807-e8b0-4191-98ed-18938316e8b0",
   "metadata": {},
   "outputs": [
    {
     "data": {
      "text/plain": [
       "<torch._C.Generator at 0x1f58949cb70>"
      ]
     },
     "execution_count": 19,
     "metadata": {},
     "output_type": "execute_result"
    }
   ],
   "source": [
    "import functools\n",
    "import matplotlib.pyplot as plt\n",
    "import numpy as np\n",
    "import pandas as pd\n",
    "import torch\n",
    "import torch.nn as nn\n",
    "import torch.optim as optim\n",
    "import torch.utils.data as thdat\n",
    "import seaborn as sns\n",
    "from tqdm import tqdm\n",
    "\n",
    "\n",
    "DEVICE = torch.device('cuda' if torch.cuda.is_available() else 'cpu')\n",
    "\n",
    "#sns.set_theme()\n",
    "torch.manual_seed(42)\n"
   ]
  },
  {
   "cell_type": "code",
   "execution_count": 20,
   "id": "90d143b4-dfa4-4192-acec-6b3c1e0c45d4",
   "metadata": {},
   "outputs": [
    {
     "name": "stdout",
     "output_type": "stream",
     "text": [
      "torch.Size([10, 1]) torch.Size([10, 1])\n",
      "torch.Size([1000, 1]) torch.Size([1000, 1])\n"
     ]
    }
   ],
   "source": [
    "data = pd.read_csv('/Users/kanha/pinns/Data/newtons_cooling_obs.csv')\n",
    "data_soln = pd.read_csv('/Users/kanha/pinns/Data/newtons_cooling_exact.csv')\n",
    "\n",
    "x_data_orig = data[\"Times\"]\n",
    "y_data_orig = data[\"Temperature\"]\n",
    "\n",
    "x_data_soln = data_soln[\"Times\"]\n",
    "y_data_soln = data_soln[\"Temperature\"]\n",
    "\n",
    "X_data = torch.tensor(x_data_orig, dtype=torch.float32).reshape(-1, 1)\n",
    "Y_data = torch.tensor(y_data_orig, dtype=torch.float32).reshape(-1, 1)\n",
    "\n",
    "X_data_eqn = torch.tensor(x_data_soln, dtype=torch.float32).reshape(-1, 1)\n",
    "Y_data_eqn = torch.tensor(y_data_soln, dtype=torch.float32).reshape(-1, 1)\n",
    "\n",
    "print(X_data.shape, Y_data.shape)\n",
    "print(X_data_eqn.shape, Y_data_eqn.shape)"
   ]
  },
  {
   "cell_type": "markdown",
   "id": "a2705e85-e344-4cff-97a9-f28d4d614dde",
   "metadata": {},
   "source": [
    "#### Loss function\n",
    "\n",
    "To simulate the system, the PINN is trained with the following loss function:\n",
    "#### Boundary condition loss + Physics loss + Data loss\n",
    "$$\n",
    "\\mathcal{L}(\\theta)= (u_{\\mathrm{PINN}}(t=0;\\theta) - 1)^2 + \\lambda_1 \\left(\\frac{d\\,u_{\\mathrm{PINN}}}{dt}(t=0;\\theta) - 0\\right)^2 + \\frac{\\lambda_2}{N} \\sum^{N}_{i} \\left( \\left[ m\\frac{d^2}{dt^2} + \\mu \\frac{d}{dt} + k \\right] u_{\\mathrm{PINN}}(t_{i};\\theta)  \\right)^2 + \\frac{\\lambda}{M} \\sum^{M}_{j} \\left( u_{\\mathrm{PINN}}(t_{j};\\theta) - u_{\\mathrm{obs}}(t_{j}) \\right)^2\n",
    "$$\n",
    "\n",
    "#### Notes\n",
    "\n",
    "There are two terms in the loss function here. The first is the **physics loss**, formed in the same way as above, which ensures the solution learned by the PINN is consistent with the know physics.\n",
    "\n",
    "The second term is called the **data loss**, and makes sure that the solution learned by the PINN fits the (potentially noisy) observations of the solution that are available."
   ]
  },
  {
   "cell_type": "code",
   "execution_count": 27,
   "id": "e1c68e53-9123-4df9-ae71-1ad0322fa4f9",
   "metadata": {},
   "outputs": [],
   "source": [
    "from torch import nn\n",
    "\n",
    "class MLP_direct(nn.Module):\n",
    "    def __init__(self):\n",
    "        super().__init__()\n",
    "        \n",
    "        self.layers = nn.Sequential(\n",
    "                          nn.Linear(1, 100),\n",
    "                          nn.ReLU(),\n",
    "                          nn.Linear(100, 50),\n",
    "                          nn.ReLU(),\n",
    "                          nn.Linear(50, 1)\n",
    "                        )\n",
    "\n",
    "\n",
    "    def forward(self, x):\n",
    "        out = self.layers(x)\n",
    "        return out"
   ]
  },
  {
   "cell_type": "code",
   "execution_count": null,
   "id": "9bf24f9c-ce0f-4f50-bfd6-90c7b10fb837",
   "metadata": {},
   "outputs": [],
   "source": [
    "\n",
    "def oscillator(x, w0, d):\n",
    "    \"\"\"Defines the analytical solution to the 1D underdamped harmonic oscillator problem. \n",
    "    Equations taken from: https://beltoforion.de/en/harmonic_oscillator/\"\"\"\n",
    "    assert d < w0\n",
    "    w = torch.sqrt(w0**2-d**2)\n",
    "    phi = torch.arctan(-d/w)\n",
    "    A = 1/(2*torch.cos(phi))\n",
    "    cos = torch.cos(phi+w*x)\n",
    "    sin = torch.sin(phi+w*x)\n",
    "    exp = torch.exp(-d*x)\n",
    "    y  = exp*2*A*cos\n",
    "    return y\n",
    "\n",
    "\n",
    "targets = Y_data \n",
    "x_steps = X_data\n",
    "inputs = X_data\n",
    "\n",
    "# Initialize the MLP\n",
    "torch.random.manual_seed(3)\n",
    "mlp = MLP_direct()\n",
    "\n",
    "# Define the loss function and optimizer\n",
    "loss_fn = nn.MSELoss()\n",
    "optimizer = torch.optim.Adam(mlp.parameters(), lr=1e-3)\n",
    "\n",
    "# Run the training loop\n",
    "losses = []\n",
    "pred_w0 = []\n",
    "pred_d = []\n",
    "pred_r = []\n",
    "final_pred = []\n",
    "\n",
    "for epoch in tqdm(range(5)): \n",
    "\n",
    "    # Zero the gradients\n",
    "    optimizer.zero_grad()\n",
    "\n",
    "    # Perform forward pass to get drift\n",
    "    full_output = mlp(inputs)\n",
    "    #print(\"inputs: \", inputs)\n",
    "    print(\"Full output: \", full_output)\n",
    "    print(\"Targets:\", targets)\n",
    "    \n",
    "    #w0_nn = full_output[:, 0]\n",
    "    #d_nn = full_output[:, 1]\n",
    "    #t0_nn = full_output[:, 0]\n",
    "    #r_nn = full_output[:, 0]\n",
    "    #print(r_nn)\n",
    "    #print(type(Tenv))\n",
    "    #print(type(r_nn))\n",
    "    #print(type(t0_nn))\n",
    "    #print(type(x_steps))\n",
    "    # Propagate drift through to end position\n",
    "    #pred = oscillator(x_steps, w0_nn, d_nn)[:,None]\n",
    "    #pred = cooling_law(x_steps, Tenv, T0, r_nn)[:,None]\n",
    "    #pred = position(t_end, a, x0_start+x0_drift, v0_start+v0_drift)[:, None]\n",
    "\n",
    "    # Compute loss\n",
    "    loss = loss_fn(full_output - targets)\n",
    "    #loss = loss_fn(pred, targets)\n",
    "\n",
    "    # Perform backward pass\n",
    "    loss.backward()\n",
    "\n",
    "    # Perform optimization\n",
    "    optimizer.step()\n",
    "    \n",
    "    losses.append(loss.item())\n",
    "    #pred_w0.append(t0_nn.flatten().clone().detach())\n",
    "    pred_r.append(r_nn.flatten().clone().detach())\n",
    "    final_pred.append(pred.flatten().clone().detach())\n",
    "    "
   ]
  },
  {
   "cell_type": "code",
   "execution_count": 55,
   "id": "318d892a-13b4-4f3e-8bb6-0749014a62dc",
   "metadata": {},
   "outputs": [
    {
     "name": "stderr",
     "output_type": "stream",
     "text": [
      "100%|██████████| 10000/10000 [00:07<00:00, 1260.83it/s]\n"
     ]
    }
   ],
   "source": [
    "\n",
    "def oscillator(x, w0, d):\n",
    "    \"\"\"Defines the analytical solution to the 1D underdamped harmonic oscillator problem. \n",
    "    Equations taken from: https://beltoforion.de/en/harmonic_oscillator/\"\"\"\n",
    "    #print(\"d:\", d)\n",
    "    #print(\"W0\", w0)\n",
    "    #assert d < w0\n",
    "    #d = d.detach().numpy()\n",
    "    #w0 = w0.detach().numpy()\n",
    "    #x = x.detach().numpy()\n",
    "    w = torch.sqrt(w0**2-d**2)\n",
    "    phi = torch.arctan(-d/w)\n",
    "    A = 1/(2*torch.cos(phi))\n",
    "    cos = torch.cos(phi+w*x)\n",
    "    sin = torch.sin(phi+w*x)\n",
    "    exp = torch.exp(-d*x)\n",
    "    y  = exp*2*A*cos\n",
    "    return y\n",
    "\n",
    "\n",
    "def cooling_law(time, Tenv, T0, R):\n",
    "    T = Tenv + (T0 - Tenv) * torch.exp(-R * time)\n",
    "    return T\n",
    "\n",
    "#Tenv = 25\n",
    "Tenv = torch.tensor(25.)\n",
    "T0 = torch.tensor(100.)\n",
    "targets = Y_data \n",
    "x_steps = X_data\n",
    "inputs = X_data\n",
    "\n",
    "# Initialize the MLP\n",
    "torch.random.manual_seed(3)\n",
    "mlp = MLP_direct()\n",
    "\n",
    "# Define the loss function and optimizer\n",
    "loss_fn = nn.MSELoss()\n",
    "optimizer = torch.optim.Adam(mlp.parameters(), lr=1e-2)\n",
    "\n",
    "# Run the training loop\n",
    "losses = []\n",
    "pred_w0 = []\n",
    "pred_d = []\n",
    "pred_r = []\n",
    "final_pred = []\n",
    "\n",
    "for epoch in tqdm(range(10000)): \n",
    "\n",
    "    # Zero the gradients\n",
    "    optimizer.zero_grad()\n",
    "\n",
    "    # Perform forward pass to get drift\n",
    "    full_output = mlp(inputs)\n",
    "    #print(\"inputs: \", inputs)\n",
    "    #print(\"Full output: \", full_output)\n",
    "    #print(\"Targets:\", targets)\n",
    "    \n",
    "    #w0_nn = full_output[:, 0]\n",
    "    #d_nn = full_output[:, 1]\n",
    "    #t0_nn = full_output[:, 0]\n",
    "    #r_nn = full_output[:, 0]\n",
    "    #print(r_nn)\n",
    "    #print(type(Tenv))\n",
    "    #print(type(r_nn))\n",
    "    #print(type(t0_nn))\n",
    "    #print(type(x_steps))\n",
    "    # Propagate drift through to end position\n",
    "    #pred = oscillator(x_steps, w0_nn, d_nn)[:,None]\n",
    "    #pred = cooling_law(x_steps, Tenv, T0, r_nn)[:,None]\n",
    "    #pred = position(t_end, a, x0_start+x0_drift, v0_start+v0_drift)[:, None]\n",
    "\n",
    "    # Compute loss\n",
    "    loss = ((full_output - targets)**2).mean()\n",
    "    #loss = loss_fn(full_output - targets)\n",
    "    #loss = loss_fn(pred, targets)\n",
    "\n",
    "    # Perform backward pass\n",
    "    loss.backward()\n",
    "\n",
    "    # Perform optimization\n",
    "    optimizer.step()\n",
    "    \n",
    "    losses.append(loss.item())\n",
    "    #pred_w0.append(t0_nn.flatten().clone().detach())\n",
    "    pred_r.append(r_nn.flatten().clone().detach())\n",
    "    final_pred.append(pred.flatten().clone().detach())\n",
    "    "
   ]
  },
  {
   "cell_type": "code",
   "execution_count": 56,
   "id": "edd28bad-b634-4e90-8fb5-029f710ea2f1",
   "metadata": {},
   "outputs": [
    {
     "data": {
      "image/png": "[encoded data removed]",
      "text/plain": [
       "<Figure size 640x480 with 1 Axes>"
      ]
     },
     "metadata": {},
     "output_type": "display_data"
    }
   ],
   "source": [
    "plt.plot(losses)\n",
    "plt.xlabel('Training Iteration')\n",
    "plt.ylabel('MSE Loss')\n",
    "plt.show()"
   ]
  },
  {
   "cell_type": "code",
   "execution_count": 57,
   "id": "5e80d934-90e2-4a6a-bc5b-5ef95ad1c706",
   "metadata": {},
   "outputs": [
    {
     "data": {
      "text/plain": [
       "tensor([[106.2765],\n",
       "        [ 91.8688],\n",
       "        [ 71.5713],\n",
       "        [ 70.4672],\n",
       "        [ 66.7482],\n",
       "        [ 56.5657],\n",
       "        [ 53.1233],\n",
       "        [ 49.6809],\n",
       "        [ 46.2385],\n",
       "        [ 42.7960]], grad_fn=<AddmmBackward0>)"
      ]
     },
     "execution_count": 57,
     "metadata": {},
     "output_type": "execute_result"
    }
   ],
   "source": [
    "full_output"
   ]
  },
  {
   "cell_type": "code",
   "execution_count": 58,
   "id": "6d472ca5-6f6d-47fc-93dd-90728124535e",
   "metadata": {},
   "outputs": [
    {
     "data": {
      "text/plain": [
       "0    100.000000\n",
       "1     99.625562\n",
       "2     99.252994\n",
       "3     98.882286\n",
       "4     98.513429\n",
       "5     98.146413\n",
       "6     97.781229\n",
       "7     97.417869\n",
       "8     97.056323\n",
       "9     96.696581\n",
       "Name: Temperature, dtype: float64"
      ]
     },
     "execution_count": 58,
     "metadata": {},
     "output_type": "execute_result"
    }
   ],
   "source": [
    "y_data_soln[:10]"
   ]
  },
  {
   "cell_type": "code",
   "execution_count": 32,
   "id": "18022763-1c8e-4de7-8bbf-140df39066f4",
   "metadata": {},
   "outputs": [
    {
     "ename": "IndexError",
     "evalue": "list index out of range",
     "output_type": "error",
     "traceback": [
      "\u001b[1;31m---------------------------------------------------------------------------\u001b[0m",
      "\u001b[1;31mIndexError\u001b[0m                                Traceback (most recent call last)",
      "Cell \u001b[1;32mIn[32], line 1\u001b[0m\n\u001b[1;32m----> 1\u001b[0m plt\u001b[38;5;241m.\u001b[39mhist(pred_w0[\u001b[38;5;241m-\u001b[39m\u001b[38;5;241m1\u001b[39m])\n\u001b[0;32m      2\u001b[0m plt\u001b[38;5;241m.\u001b[39mshow()\n",
      "\u001b[1;31mIndexError\u001b[0m: list index out of range"
     ]
    }
   ],
   "source": [
    "plt.hist(pred_w0[-1])\n",
    "plt.show()"
   ]
  },
  {
   "cell_type": "code",
   "execution_count": 33,
   "id": "6465436c-2035-40f0-8f24-090fe9674489",
   "metadata": {},
   "outputs": [
    {
     "data": {
      "image/png": "[encoded data removed]",
      "text/plain": [
       "<Figure size 640x480 with 1 Axes>"
      ]
     },
     "metadata": {},
     "output_type": "display_data"
    }
   ],
   "source": [
    "plt.hist(pred_r)\n",
    "plt.show()"
   ]
  },
  {
   "cell_type": "code",
   "execution_count": 26,
   "id": "f232f178-cd1a-471f-b726-d28f5fd71751",
   "metadata": {},
   "outputs": [
    {
     "ename": "IndexError",
     "evalue": "list index out of range",
     "output_type": "error",
     "traceback": [
      "\u001b[1;31m---------------------------------------------------------------------------\u001b[0m",
      "\u001b[1;31mIndexError\u001b[0m                                Traceback (most recent call last)",
      "Cell \u001b[1;32mIn[26], line 1\u001b[0m\n\u001b[1;32m----> 1\u001b[0m plt\u001b[38;5;241m.\u001b[39mplot(inputs, final_pred[\u001b[38;5;241m-\u001b[39m\u001b[38;5;241m1\u001b[39m], c\u001b[38;5;241m=\u001b[39m\u001b[38;5;124m'\u001b[39m\u001b[38;5;124mr\u001b[39m\u001b[38;5;124m'\u001b[39m, label\u001b[38;5;241m=\u001b[39m\u001b[38;5;124m'\u001b[39m\u001b[38;5;124mFit\u001b[39m\u001b[38;5;124m'\u001b[39m)\n\u001b[0;32m      2\u001b[0m plt\u001b[38;5;241m.\u001b[39mplot(inputs, targets, c\u001b[38;5;241m=\u001b[39m\u001b[38;5;124m'\u001b[39m\u001b[38;5;124mk\u001b[39m\u001b[38;5;124m'\u001b[39m, label\u001b[38;5;241m=\u001b[39m\u001b[38;5;124m'\u001b[39m\u001b[38;5;124mTrue\u001b[39m\u001b[38;5;124m'\u001b[39m)\n\u001b[0;32m      3\u001b[0m plt\u001b[38;5;241m.\u001b[39mlegend()\n",
      "\u001b[1;31mIndexError\u001b[0m: list index out of range"
     ]
    }
   ],
   "source": [
    "plt.plot(inputs, final_pred[-1], c='r', label='Fit')\n",
    "plt.plot(inputs, targets, c='k', label='True')\n",
    "plt.legend()\n",
    "plt.xlabel('Launch Time')\n",
    "plt.ylabel('End Position')\n",
    "plt.show()"
   ]
  },
  {
   "cell_type": "code",
   "execution_count": null,
   "id": "508a9bd6-3cbd-485c-b417-55754e460b22",
   "metadata": {},
   "outputs": [],
   "source": []
  },
  {
   "cell_type": "code",
   "execution_count": null,
   "id": "0bc5be93-8c20-41fe-b204-de3b356c0630",
   "metadata": {},
   "outputs": [],
   "source": [
    "print(pred_r)"
   ]
  },
  {
   "cell_type": "code",
   "execution_count": null,
   "id": "67b0fea6-3eea-48f5-9bee-1ce533d79983",
   "metadata": {},
   "outputs": [],
   "source": []
  }
 ],
 "metadata": {
  "kernelspec": {
   "display_name": "Python 3 (ipykernel)",
   "language": "python",
   "name": "python3"
  },
  "language_info": {
   "codemirror_mode": {
    "name": "ipython",
    "version": 3
   },
   "file_extension": ".py",
   "mimetype": "text/x-python",
   "name": "python",
   "nbconvert_exporter": "python",
   "pygments_lexer": "ipython3",
   "version": "3.12.8"
  }
 },
 "nbformat": 4,
 "nbformat_minor": 5
}
