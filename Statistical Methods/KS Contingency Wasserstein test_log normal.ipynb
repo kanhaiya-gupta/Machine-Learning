{
 "cells": [
  {
   "cell_type": "code",
   "execution_count": 37,
   "id": "a3d59082",
   "metadata": {},
   "outputs": [],
   "source": [
    "import numpy as np\n",
    "from numpy import random\n",
    "import matplotlib.pyplot as plt\n",
    "import pandas as pd\n",
    "from scipy import stats\n",
    "from scipy.optimize import curve_fit\n",
    "from scipy.optimize import minimize\n",
    "from scipy.special import gammaincinv\n",
    "from scipy.special import erfinv, erf\n",
    "\n",
    "#random.seed(2728811529)\n",
    "random.seed(0)"
   ]
  },
  {
   "cell_type": "markdown",
   "id": "720b0d50",
   "metadata": {},
   "source": [
    "# Data"
   ]
  },
  {
   "cell_type": "code",
   "execution_count": 38,
   "id": "e7453581-8307-4c26-ac2d-18b8adfb7831",
   "metadata": {},
   "outputs": [
    {
     "name": "stdout",
     "output_type": "stream",
     "text": [
      "Area:  0.056300000000004014\n",
      "bin center [ 0.569404  0.569504  0.569604 ... 13.383404 13.383504 13.383604]\n"
     ]
    }
   ],
   "source": [
    "data_sample = pd.read_csv(\"/Users/kanha/BAM_kgupta/Test/T190.0°C_D1000.0hr_S0MPa.csv\")\n",
    "data_legend = \"Data\"\n",
    "data_sample = pd.DataFrame(data_sample)\n",
    " \n",
    "\n",
    "resolution = 0.01\n",
    "binwidth = resolution * resolution\n",
    "bining = np.arange(min(data_sample[\"mean_radius_circle_area\"]), max(data_sample[\"mean_radius_circle_area\"]) + binwidth, binwidth)\n",
    "\n",
    "count_w, bin_edges_w = np.histogram(data_sample[\"mean_radius_circle_area\"], bins = bining, density = False)\n",
    "count_u, bin_edges_u = np.histogram(data_sample[\"mean_radius_circle_area\"], bins = bining, density = True)\n",
    "#weight = count_u/count_w\n",
    "\n",
    "#print(weight)\n",
    "bin_centers = (bin_edges_u[1:] + bin_edges_u[:-1]) / 2\n",
    "bin_centers = np.round(bin_centers, decimals=6)\n",
    "area =  np.sum(np.diff(bin_edges_w) * count_w)\n",
    "\n",
    "print(\"Area: \", area)\n",
    "print(\"bin center\", bin_centers)"
   ]
  },
  {
   "cell_type": "code",
   "execution_count": 39,
   "id": "1daa51c5-9b20-429f-9e2c-845e1c72fd31",
   "metadata": {},
   "outputs": [
    {
     "data": {
      "text/plain": [
       "0      1.333336\n",
       "1      1.513150\n",
       "2      1.514277\n",
       "3      5.108182\n",
       "4      0.655701\n",
       "         ...   \n",
       "558    1.608257\n",
       "559    2.395708\n",
       "560    4.301705\n",
       "561    5.557674\n",
       "562    3.526709\n",
       "Name: mean_radius_circle_area, Length: 563, dtype: float64"
      ]
     },
     "execution_count": 39,
     "metadata": {},
     "output_type": "execute_result"
    }
   ],
   "source": [
    "data_sample[\"mean_radius_circle_area\"]"
   ]
  },
  {
   "cell_type": "markdown",
   "id": "3329b527",
   "metadata": {},
   "source": [
    "# Log Normal Regression"
   ]
  },
  {
   "cell_type": "code",
   "execution_count": 40,
   "id": "dd2ef63e",
   "metadata": {},
   "outputs": [],
   "source": [
    "def Log_normal_pdf(params, X):\n",
    "    # Unpack the model parameters\n",
    "    \n",
    "    rm, sigma = params\n",
    "    \n",
    "    # Compute the pdf-value\n",
    "    pdf_value = (1.0/(np.sqrt(2*np.pi)*X*sigma)*np.exp(-(np.log(X/rm))**2/(2*sigma**2)))\n",
    "    \n",
    "    return pdf_value\n"
   ]
  },
  {
   "cell_type": "code",
   "execution_count": 41,
   "id": "2b328f9c",
   "metadata": {},
   "outputs": [],
   "source": [
    "def Log_normal_regression(params, X):\n",
    "    # Unpack the model parameters\n",
    "    \n",
    "    rm, sigma = params\n",
    "    \n",
    "    # Compute the negative log-likelihood\n",
    "    nll = -np.sum(np.log((1.0/(np.sqrt(2*np.pi)*X*sigma)*np.exp(-(np.log(X/rm))**2/(2*sigma**2)))))\n",
    "    \n",
    "    return nll\n"
   ]
  },
  {
   "cell_type": "markdown",
   "id": "bdf15be8",
   "metadata": {},
   "source": [
    "## Curve fit"
   ]
  },
  {
   "cell_type": "code",
   "execution_count": 42,
   "id": "b41e24d4",
   "metadata": {},
   "outputs": [
    {
     "data": {
      "text/plain": [
       "array([1.64169989, 0.9624149 ])"
      ]
     },
     "execution_count": 42,
     "metadata": {},
     "output_type": "execute_result"
    }
   ],
   "source": [
    "def Log_normal_pdf_curvefit(X, rm, sigma):\n",
    "    # Unpack the model parameters\n",
    "    \n",
    "    # Compute the pdf-value\n",
    "    pdf_value = (1.0/(np.sqrt(2*np.pi)*X*sigma)*np.exp(-(np.log(X/rm))**2/(2*sigma**2)))\n",
    "    \n",
    "    return pdf_value\n",
    "\n",
    "\n",
    "initial_params = [2.1, 0.4]\n",
    "popt, pcov = curve_fit(Log_normal_pdf_curvefit, bin_centers, count_u, p0 = initial_params)\n",
    "popt"
   ]
  },
  {
   "cell_type": "code",
   "execution_count": 43,
   "id": "e78cb45d-6e38-41d8-9bd8-47a26289085f",
   "metadata": {},
   "outputs": [
    {
     "name": "stdout",
     "output_type": "stream",
     "text": [
      "Mean 0.011722158884990105\n",
      "Standard deviation 1.2595710387289931\n",
      "[ 1.73645603e+01 -3.97439000e-01 -3.97449000e-01 ... -2.87600000e-03\n",
      " -2.87600000e-03  1.77591133e+01]\n"
     ]
    },
    {
     "data": {
      "text/plain": [
       "KstestResult(statistic=np.float64(0.4970503710176072), pvalue=np.float64(0.0), statistic_location=np.float64(-0.002876), statistic_sign=np.int8(1))"
      ]
     },
     "execution_count": 43,
     "metadata": {},
     "output_type": "execute_result"
    }
   ],
   "source": [
    "data_y = count_u\n",
    "fitted_y = Log_normal_pdf_curvefit(bin_centers, *popt)\n",
    "\n",
    "fitted_y = np.round(fitted_y, decimals=6)\n",
    "norm_dist = data_y - fitted_y\n",
    "\n",
    "print(\"Mean\", np.mean(norm_dist))\n",
    "print(\"Standard deviation\", np.std(norm_dist))\n",
    "print(norm_dist)\n",
    "ks_test_norm = stats.kstest(norm_dist, stats.norm.cdf)\n",
    "ks_test_norm\n"
   ]
  },
  {
   "cell_type": "code",
   "execution_count": 47,
   "id": "a6ec4285-7f11-4453-90a7-8bfa9949c032",
   "metadata": {},
   "outputs": [
    {
     "name": "stdout",
     "output_type": "stream",
     "text": [
      "Seed value:  2728811529\n",
      "Mu : 2.256966\n",
      "Sigma : 0.775732\n"
     ]
    }
   ],
   "source": [
    "#random.seed(2728811529)\n",
    "st0 = np.random.get_state()[1][0]\n",
    "print(\"Seed value: \", st0)\n",
    "\n",
    "# Initial parameter values\n",
    "initial_params = [2.1, 0.4]\n",
    "\n",
    "# Perform maximum likelihood regression\n",
    "result = minimize(Log_normal_regression, initial_params, args=(data_sample[\"mean_radius_circle_area\"],))\n",
    "\n",
    "# Retrieve the estimated parameters\n",
    "mu_, sigma_ = result.x\n",
    "\n",
    "mu_ = np.round(mu_, decimals=6)\n",
    "sigma_ = np.round(sigma_, decimals=6)\n",
    "\n",
    "print(\"Mu :\", mu_)\n",
    "print(\"Sigma :\", sigma_)\n",
    "\n",
    "#s = random.uniform(0,1,len(data_sample[\"mean_radius_circle_area\"]))\n",
    "N = 0\n",
    "while True:\n",
    "    n = len(data_sample[\"mean_radius_circle_area\"])\n",
    "    if N == 0:\n",
    "        N = n\n",
    "        \n",
    "    s = random.uniform(0, 1,  N)\n",
    "    \n",
    "    # https://www.math.umd.edu/~millson/teaching/STAT400fall18/slides/article13.pdf\n",
    "    # cdf of log normal distribution\n",
    "\n",
    "    mu = np.log(mu_)\n",
    "    sig = sigma_\n",
    "\n",
    "    ln_d = np.exp(np.sqrt(2)* sig * erfinv(2*s -1) + mu)\n",
    "\n",
    "    ln_d = ln_d[ln_d <= max(data_sample[\"mean_radius_circle_area\"])]\n",
    "    ln_d = ln_d[ln_d >= min(data_sample[\"mean_radius_circle_area\"])]\n",
    "\n",
    "    if len(ln_d) == len(data_sample[\"mean_radius_circle_area\"]):\n",
    "        break\n",
    "    else:\n",
    "        N = N + 1\n",
    "        "
   ]
  },
  {
   "cell_type": "code",
   "execution_count": 48,
   "id": "d903b323-393d-4d7e-a8fe-ad281a672c79",
   "metadata": {},
   "outputs": [
    {
     "name": "stdout",
     "output_type": "stream",
     "text": [
      "Sample size of data: 563\n",
      "Sample size of generated data: 563\n",
      "KS-test: p-value =  11.662042939719246\n",
      "Chi2 statistics: Chi2ContingencyResult(statistic=np.float64(14.103625707908257), pvalue=np.float64(0.44201971732954576), dof=14, expected_freq=array([[164.5, 120. ,  67. ,  63.5,  44.5,  31.5,  20.5,  19.5,   9.5,\n",
      "          9.5,   3. ,   3. ,   3. ,   1.5,   2.5],\n",
      "       [164.5, 120. ,  67. ,  63.5,  44.5,  31.5,  20.5,  19.5,   9.5,\n",
      "          9.5,   3. ,   3. ,   3. ,   1.5,   2.5]]))\n",
      "Chi2-test: p-value =  44.201971732954576\n"
     ]
    }
   ],
   "source": [
    "Sample_A = data_sample[\"mean_radius_circle_area\"]\n",
    "Sample_B = np.round(ln_d, decimals=6)\n",
    "\n",
    "count_A, bin_edges_A = np.histogram(Sample_A, bins = 15, density = False)\n",
    "count_B, bin_edges_B = np.histogram(Sample_B, bins = 15, density = False)\n",
    "\n",
    "print(\"Sample size of data:\", len(Sample_A))\n",
    "print(\"Sample size of generated data:\", len(Sample_B))\n",
    "\n",
    "#ks_test_ls = stats.ks_2samp(Sample_A, Sample_B)\n",
    "ks_test_ks = stats.kstest(Sample_A, Sample_B)\n",
    "p_val_ks = ks_test_ks[1]*100\n",
    "\n",
    "wasserstein_dist = stats.wasserstein_distance(Sample_A, Sample_B)\n",
    "\n",
    "chi2_test = stats.chi2_contingency([count_A, count_B])\n",
    "p_val_chi2 = chi2_test[1]*100\n",
    "\n",
    "\n",
    "print(\"KS-test: p-value = \", p_val_ks)\n",
    "print(\"Chi2 statistics:\", chi2_test)\n",
    "print(\"Chi2-test: p-value = \", p_val_chi2)\n"
   ]
  },
  {
   "cell_type": "code",
   "execution_count": 49,
   "id": "ef1557c1-53b0-43a1-96bb-6c531decbf22",
   "metadata": {},
   "outputs": [
    {
     "data": {
      "image/png": "[encoded data removed]",
      "text/plain": [
       "<Figure size 640x480 with 1 Axes>"
      ]
     },
     "metadata": {},
     "output_type": "display_data"
    }
   ],
   "source": [
    "plt.hist(Sample_A, bins = 15,  density=False,  histtype='bar', rwidth= 0.85, edgecolor='black', alpha=0.7, label=\"Data\")\n",
    "#plt.hist(Sample_B, bins = 15,  density=False,  histtype='bar', rwidth= 0.85, edgecolor='black', alpha=0.1, label=\"Simulation\")\n",
    "plt.hist(Sample_B, bins = 15,  density=False,  histtype='step', rwidth= 0.85, edgecolor='black', alpha=1.0, label=\"Simulation\")\n",
    "plt.ylabel(\"Counts\")\n",
    "plt.xlabel(\"X-values\")\n",
    "plt.legend()\n",
    "plt.grid()\n",
    "#plt.text(8, 180, \"Bins = 15\")\n",
    "plt.text(7.3, 130, r\"$\\mu$ = %.4f\"%mu_)\n",
    "plt.text(7.3, 115, r\"$\\sigma$ = %.4f\"%sigma_)\n",
    "plt.text(7.3, 100, \"KS-test: p value = %.2f\"%p_val_ks+\"%\")\n",
    "plt.text(7.3, 85, r\"$\\chi^{2}-$test: p value = %.2f\"%p_val_chi2+\"%\")\n",
    "plt.text(7.3, 70, \"Wasserstein distance = %.4f\"%wasserstein_dist)\n",
    "#plt.savefig(\"./Images/Coffee_meeting_Data.png\",  bbox_inches='tight', dpi=400)\n",
    "plt.show()"
   ]
  },
  {
   "cell_type": "code",
   "execution_count": null,
   "id": "6c188f64-6e7d-4e46-923d-2c6c2dc3e727",
   "metadata": {},
   "outputs": [],
   "source": []
  },
  {
   "cell_type": "code",
   "execution_count": null,
   "id": "4b643642-0153-4bac-a6c0-da642f504557",
   "metadata": {},
   "outputs": [],
   "source": []
  },
  {
   "cell_type": "code",
   "execution_count": null,
   "id": "1b53cca9-7849-476b-823e-2454d6a96f90",
   "metadata": {},
   "outputs": [],
   "source": []
  },
  {
   "cell_type": "code",
   "execution_count": null,
   "id": "594f1407-0ae1-417e-8e33-bbda85b79472",
   "metadata": {},
   "outputs": [],
   "source": []
  },
  {
   "cell_type": "markdown",
   "id": "faa8ccfd",
   "metadata": {},
   "source": [
    "The log nornal distribution function is:\n",
    "\n",
    "$$ {\\frac {1}{x\\sigma {\\sqrt {2\\pi }}}}\\ \\exp \\left(-{\\frac {\\left(\\ln \\frac{x}{\\mu} \\right)^{2}}{2\\sigma ^{2}}}\\right)$$"
   ]
  },
  {
   "cell_type": "markdown",
   "id": "27c9cf96",
   "metadata": {},
   "source": [
    "$$ \\chi^{2} = \\sum_{i=1}^{n}\\frac{(observed - expected)^{2}}{expected} $$"
   ]
  },
  {
   "cell_type": "code",
   "execution_count": null,
   "id": "013d1a01-2359-479f-9dbb-75ea952e0ece",
   "metadata": {},
   "outputs": [],
   "source": []
  }
 ],
 "metadata": {
  "kernelspec": {
   "display_name": "Python 3 (ipykernel)",
   "language": "python",
   "name": "python3"
  },
  "language_info": {
   "codemirror_mode": {
    "name": "ipython",
    "version": 3
   },
   "file_extension": ".py",
   "mimetype": "text/x-python",
   "name": "python",
   "nbconvert_exporter": "python",
   "pygments_lexer": "ipython3",
   "version": "3.12.8"
  }
 },
 "nbformat": 4,
 "nbformat_minor": 5
}
