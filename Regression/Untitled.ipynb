{
 "cells": [
  {
   "cell_type": "markdown",
   "id": "47bb95fc-e515-4f42-a9a3-cf82aac17787",
   "metadata": {},
   "source": [
    "## Limitations of R-squared in Regression Model Evaluation:\n",
    "Slide 1: Introduction to R-squared (R²)\n",
    "\n",
    "Understanding R-squared (R²) in Regression Analysis\n",
    "\n",
    "R-squared, also known as the coefficient of determination, is a statistical measure used to assess the goodness of fit of a regression model. It represents the proportion of variance in the dependent variable that is predictable from the independent variable(s). While R-squared is widely used, it has limitations that can lead to misinterpretation of model performance.\n",
    "\n",
    "    "
   ]
  },
  {
   "cell_type": "code",
   "execution_count": 1,
   "id": "bbd863a3-3fde-4749-8bf8-9b5627263db2",
   "metadata": {},
   "outputs": [
    {
     "name": "stdout",
     "output_type": "stream",
     "text": [
      "R-squared: 0.6000\n"
     ]
    }
   ],
   "source": [
    "import numpy as np\n",
    "from sklearn.linear_model import LinearRegression\n",
    "from sklearn.metrics import r2_score\n",
    "\n",
    "# Generate sample data\n",
    "X = np.array([1, 2, 3, 4, 5]).reshape(-1, 1)\n",
    "y = np.array([2, 4, 5, 4, 5])\n",
    "\n",
    "# Fit linear regression model\n",
    "model = LinearRegression()\n",
    "model.fit(X, y)\n",
    "\n",
    "# Calculate R-squared\n",
    "r2 = r2_score(y, model.predict(X))\n",
    "print(f\"R-squared: {r2:.4f}\")"
   ]
  },
  {
   "cell_type": "markdown",
   "id": "f0207bd3-f763-4021-90c4-bcffd1538cf4",
   "metadata": {},
   "source": [
    "Slide 2: Limitation 1 - Sensitivity to Sample Size\n",
    "\n",
    "R-squared and Sample Size\n",
    "\n",
    "R-squared tends to increase as more variables are added to the model, even if these variables don't significantly improve the model's predictive power. This can lead to overfitting, especially with small sample sizes. To demonstrate this, we'll create a function that generates random data and calculates R-squared for different sample sizes."
   ]
  },
  {
   "cell_type": "code",
   "execution_count": 2,
   "id": "2db268ea-08b6-4f7c-9036-5077bdb03b25",
   "metadata": {},
   "outputs": [
    {
     "name": "stdout",
     "output_type": "stream",
     "text": [
      "Sample size: 10, R-squared: 0.7015\n",
      "Sample size: 50, R-squared: 0.1339\n",
      "Sample size: 100, R-squared: 0.0380\n",
      "Sample size: 500, R-squared: 0.0130\n",
      "Sample size: 1000, R-squared: 0.0074\n"
     ]
    }
   ],
   "source": [
    "import numpy as np\n",
    "from sklearn.linear_model import LinearRegression\n",
    "from sklearn.metrics import r2_score\n",
    "\n",
    "def r2_vs_sample_size(n_samples, n_features):\n",
    "    X = np.random.rand(n_samples, n_features)\n",
    "    y = np.random.rand(n_samples)\n",
    "    model = LinearRegression().fit(X, y)\n",
    "    return r2_score(y, model.predict(X))\n",
    "\n",
    "sample_sizes = [10, 50, 100, 500, 1000]\n",
    "r2_values = [r2_vs_sample_size(n, 5) for n in sample_sizes]\n",
    "\n",
    "for n, r2 in zip(sample_sizes, r2_values):\n",
    "    print(f\"Sample size: {n}, R-squared: {r2:.4f}\")"
   ]
  },
  {
   "cell_type": "markdown",
   "id": "4df24bd8-1e2a-4cee-8874-a092f70b9cd5",
   "metadata": {},
   "source": [
    "Slide 3: Limitation 2 - Insensitivity to Bias\n",
    "\n",
    "R-squared and Model Bias\n",
    "\n",
    "R-squared doesn't account for systematic bias in the model's predictions. A model can have a high R-squared value even if its predictions are consistently off by a large margin. This limitation highlights the importance of considering other metrics alongside R-squared when evaluating model performance."
   ]
  },
  {
   "cell_type": "code",
   "execution_count": 3,
   "id": "6263c6f1-5f34-458a-8acb-609bfc41efc0",
   "metadata": {},
   "outputs": [
    {
     "name": "stdout",
     "output_type": "stream",
     "text": [
      "R-squared (biased): -2.1250\n",
      "Mean Absolute Error: 5.0000\n"
     ]
    }
   ],
   "source": [
    "import numpy as np\n",
    "from sklearn.metrics import r2_score\n",
    "\n",
    "# Generate sample data\n",
    "X = np.array([1, 2, 3, 4, 5])\n",
    "y = np.array([2, 4, 6, 8, 10])\n",
    "\n",
    "# Create biased predictions\n",
    "y_pred_biased = y + 5  # Add a constant bias of 5\n",
    "\n",
    "# Calculate R-squared for biased predictions\n",
    "r2_biased = r2_score(y, y_pred_biased)\n",
    "print(f\"R-squared (biased): {r2_biased:.4f}\")\n",
    "\n",
    "# Calculate mean absolute error\n",
    "mae = np.mean(np.abs(y - y_pred_biased))\n",
    "print(f\"Mean Absolute Error: {mae:.4f}\")"
   ]
  },
  {
   "cell_type": "markdown",
   "id": "52395bcc-c8d7-4fb8-b028-3dfda94b006b",
   "metadata": {},
   "source": [
    "Slide 4: Limitation 3 - Lack of Information on Prediction Accuracy\n",
    "\n",
    "R-squared and Prediction Accuracy\n",
    "\n",
    "R-squared doesn't provide direct information about the accuracy of predictions. A high R-squared doesn't necessarily mean the model makes accurate predictions. To illustrate this, we'll create a model with a high R-squared but poor predictive performance on new data."
   ]
  },
  {
   "cell_type": "code",
   "execution_count": 4,
   "id": "46947006-c275-46a0-a61e-c023c10e52b4",
   "metadata": {},
   "outputs": [
    {
     "name": "stdout",
     "output_type": "stream",
     "text": [
      "R-squared (train): 1.0000\n",
      "R-squared (test): -4.4000\n",
      "MAE (test): 4.0000\n"
     ]
    }
   ],
   "source": [
    "import numpy as np\n",
    "from sklearn.linear_model import LinearRegression\n",
    "from sklearn.metrics import r2_score, mean_absolute_error\n",
    "\n",
    "# Generate training data\n",
    "X_train = np.array([1, 2, 3, 4, 5]).reshape(-1, 1)\n",
    "y_train = np.array([2, 4, 6, 8, 10])\n",
    "\n",
    "# Fit model\n",
    "model = LinearRegression().fit(X_train, y_train)\n",
    "\n",
    "# Calculate R-squared on training data\n",
    "r2_train = r2_score(y_train, model.predict(X_train))\n",
    "print(f\"R-squared (train): {r2_train:.4f}\")\n",
    "\n",
    "# Generate test data\n",
    "X_test = np.array([6, 7, 8, 9, 10]).reshape(-1, 1)\n",
    "y_test = np.array([11, 9, 13, 15, 12])\n",
    "\n",
    "# Calculate R-squared and MAE on test data\n",
    "r2_test = r2_score(y_test, model.predict(X_test))\n",
    "mae_test = mean_absolute_error(y_test, model.predict(X_test))\n",
    "print(f\"R-squared (test): {r2_test:.4f}\")\n",
    "print(f\"MAE (test): {mae_test:.4f}\")"
   ]
  },
  {
   "cell_type": "markdown",
   "id": "1f73c949-8bb4-4b44-93df-352239bb0243",
   "metadata": {},
   "source": [
    "Slide 5: Limitation 4 - Sensitivity to Outliers\n",
    "\n",
    "R-squared and Outliers\n",
    "\n",
    "R-squared can be heavily influenced by outliers in the data. A single extreme value can significantly impact the R-squared value, potentially leading to an overly optimistic or pessimistic assessment of model performance. Let's demonstrate this by comparing R-squared values with and without an outlier."
   ]
  },
  {
   "cell_type": "code",
   "execution_count": 5,
   "id": "ef5d088e-57a8-4b91-b649-fd7c2bce92db",
   "metadata": {},
   "outputs": [
    {
     "name": "stdout",
     "output_type": "stream",
     "text": [
      "R-squared (normal): 1.0000\n",
      "R-squared (with outlier): 0.4492\n"
     ]
    }
   ],
   "source": [
    "import numpy as np\n",
    "from sklearn.linear_model import LinearRegression\n",
    "from sklearn.metrics import r2_score\n",
    "\n",
    "# Generate sample data\n",
    "X = np.array([1, 2, 3, 4, 5, 6, 7, 8, 9, 10]).reshape(-1, 1)\n",
    "y = np.array([2, 4, 6, 8, 10, 12, 14, 16, 18, 20])\n",
    "\n",
    "# Add an outlier\n",
    "X_outlier = np.vstack([X, [11]])\n",
    "y_outlier = np.append(y, [100])\n",
    "\n",
    "# Fit models and calculate R-squared\n",
    "model = LinearRegression()\n",
    "model.fit(X, y)\n",
    "r2_normal = r2_score(y, model.predict(X))\n",
    "\n",
    "model_outlier = LinearRegression()\n",
    "model_outlier.fit(X_outlier, y_outlier)\n",
    "r2_with_outlier = r2_score(y_outlier, model_outlier.predict(X_outlier))\n",
    "\n",
    "print(f\"R-squared (normal): {r2_normal:.4f}\")\n",
    "print(f\"R-squared (with outlier): {r2_with_outlier:.4f}\")"
   ]
  },
  {
   "cell_type": "markdown",
   "id": "9b752a40-b7a8-4b3c-9f81-17f57abc5760",
   "metadata": {},
   "source": [
    "Slide 6: Limitation 5 - Inability to Determine Causality\n",
    "\n",
    "R-squared and Causality\n",
    "\n",
    "A high R-squared value doesn't imply causality between variables. It only indicates correlation. This limitation is crucial to understand when interpreting regression results, especially in fields like economics or social sciences. Let's create an example where two unrelated variables show a high R-squared."
   ]
  },
  {
   "cell_type": "code",
   "execution_count": 6,
   "id": "77799cb7-c493-43cf-a3e3-a5c584612275",
   "metadata": {},
   "outputs": [
    {
     "name": "stdout",
     "output_type": "stream",
     "text": [
      "R-squared: 0.0012\n",
      "Correlation coefficient: -0.0340\n"
     ]
    }
   ],
   "source": [
    "import numpy as np\n",
    "from sklearn.linear_model import LinearRegression\n",
    "from sklearn.metrics import r2_score\n",
    "\n",
    "# Generate two unrelated variables\n",
    "np.random.seed(42)\n",
    "X = np.random.rand(100, 1)\n",
    "y = np.random.rand(100)\n",
    "\n",
    "# Fit model and calculate R-squared\n",
    "model = LinearRegression().fit(X, y)\n",
    "r2 = r2_score(y, model.predict(X))\n",
    "\n",
    "print(f\"R-squared: {r2:.4f}\")\n",
    "\n",
    "# Calculate correlation coefficient\n",
    "corr = np.corrcoef(X.flatten(), y)[0, 1]\n",
    "print(f\"Correlation coefficient: {corr:.4f}\")"
   ]
  },
  {
   "cell_type": "markdown",
   "id": "bb3054b7-09d8-4da0-b6a8-c03955804866",
   "metadata": {},
   "source": [
    "Slide 7: Limitation 6 - Dependence on Linear Relationships\n",
    "\n",
    "R-squared and Non-linear Relationships\n",
    "\n",
    "R-squared assumes a linear relationship between variables. For non-linear relationships, R-squared may underestimate the strength of the relationship. This limitation highlights the importance of visualizing data and considering non-linear models when appropriate. Let's compare R-squared for a linear model and a non-linear relationship."
   ]
  },
  {
   "cell_type": "code",
   "execution_count": 7,
   "id": "a22ca7de-30cd-40b3-a0b5-9536deaef8c7",
   "metadata": {},
   "outputs": [
    {
     "name": "stdout",
     "output_type": "stream",
     "text": [
      "R-squared (linear model): 0.0071\n",
      "R-squared (true non-linear relationship): 0.9775\n"
     ]
    },
    {
     "data": {
      "image/png": "[encoded data removed]",
      "text/plain": [
       "<Figure size 640x480 with 1 Axes>"
      ]
     },
     "metadata": {},
     "output_type": "display_data"
    }
   ],
   "source": [
    "import numpy as np\n",
    "from sklearn.linear_model import LinearRegression\n",
    "from sklearn.metrics import r2_score\n",
    "import matplotlib.pyplot as plt\n",
    "\n",
    "# Generate non-linear data\n",
    "X = np.linspace(0, 10, 100).reshape(-1, 1)\n",
    "y = np.sin(X).flatten() + np.random.normal(0, 0.1, 100)\n",
    "\n",
    "# Fit linear model\n",
    "linear_model = LinearRegression().fit(X, y)\n",
    "r2_linear = r2_score(y, linear_model.predict(X))\n",
    "\n",
    "# Calculate R-squared for non-linear relationship\n",
    "r2_nonlinear = r2_score(y, np.sin(X).flatten())\n",
    "\n",
    "print(f\"R-squared (linear model): {r2_linear:.4f}\")\n",
    "print(f\"R-squared (true non-linear relationship): {r2_nonlinear:.4f}\")\n",
    "\n",
    "# Plot data and models\n",
    "plt.scatter(X, y, alpha=0.5)\n",
    "plt.plot(X, linear_model.predict(X), color='red', label='Linear model')\n",
    "plt.plot(X, np.sin(X), color='green', label='True relationship')\n",
    "plt.legend()\n",
    "plt.title(\"Linear vs Non-linear Relationship\")\n",
    "plt.show()"
   ]
  },
  {
   "cell_type": "markdown",
   "id": "4087a7ad-8bb2-43c7-a263-3aa886507a86",
   "metadata": {},
   "source": [
    "Slide 8: Limitation 7 - Lack of Information on Residuals\n",
    "\n",
    "R-squared and Residual Analysis\n",
    "\n",
    "R-squared doesn't provide information about the distribution of residuals, which is crucial for assessing model assumptions. A high R-squared doesn't guarantee that residuals are normally distributed or have constant variance. Let's create an example where R-squared is high, but residuals show heteroscedasticity."
   ]
  },
  {
   "cell_type": "code",
   "execution_count": 9,
   "id": "b19d1885-fa4c-4162-b8d5-7c2007e63efd",
   "metadata": {},
   "outputs": [
    {
     "name": "stdout",
     "output_type": "stream",
     "text": [
      "R-squared: 0.5946\n"
     ]
    },
    {
     "data": {
      "image/png": "[encoded data removed]",
      "text/plain": [
       "<Figure size 640x480 with 1 Axes>"
      ]
     },
     "metadata": {},
     "output_type": "display_data"
    }
   ],
   "source": [
    "import numpy as np\n",
    "from sklearn.linear_model import LinearRegression\n",
    "from sklearn.metrics import r2_score\n",
    "import matplotlib.pyplot as plt\n",
    "\n",
    "# Generate heteroscedastic data\n",
    "X = np.linspace(0, 10, 100).reshape(-1, 1)\n",
    "y = 2 * X.flatten() + np.random.normal(0, X.flatten(), 100)\n",
    "\n",
    "# Fit model and calculate R-squared\n",
    "model = LinearRegression().fit(X, y)\n",
    "r2 = r2_score(y, model.predict(X))\n",
    "\n",
    "# Calculate residuals\n",
    "residuals = y - model.predict(X).flatten()\n",
    "\n",
    "print(f\"R-squared: {r2:.4f}\")\n",
    "\n",
    "# Plot residuals\n",
    "plt.scatter(X, residuals)\n",
    "plt.title(\"Residuals vs. Predicted Values\")\n",
    "plt.xlabel(\"Predicted Values\")\n",
    "plt.ylabel(\"Residuals\")\n",
    "plt.show()"
   ]
  },
  {
   "cell_type": "markdown",
   "id": "80e9c3dc-6671-4b21-befd-8a82b3e2d6bc",
   "metadata": {},
   "source": [
    "Slide 9: Limitation 8 - Comparison Across Different Datasets\n",
    "\n",
    "R-squared and Dataset Comparisons\n",
    "\n",
    "R-squared values are not directly comparable across different datasets or dependent variables. A model with a lower R-squared might perform better on new data than a model with a higher R-squared trained on a different dataset. This limitation emphasizes the importance of considering the specific context and goals of the analysis."
   ]
  },
  {
   "cell_type": "code",
   "execution_count": 10,
   "id": "7928503a-4a37-4e67-80d5-ca3ac22e1e86",
   "metadata": {},
   "outputs": [
    {
     "name": "stdout",
     "output_type": "stream",
     "text": [
      "Dataset 1 - R-squared: 0.5765, MSE: 0.2016\n",
      "Dataset 2 - R-squared: 0.4431, MSE: 3.1793\n"
     ]
    }
   ],
   "source": [
    "import numpy as np\n",
    "from sklearn.linear_model import LinearRegression\n",
    "from sklearn.metrics import r2_score, mean_squared_error\n",
    "\n",
    "# Generate two datasets\n",
    "np.random.seed(42)\n",
    "X1 = np.random.rand(100, 1)\n",
    "y1 = 2 * X1 + np.random.normal(0, 0.5, (100, 1))\n",
    "\n",
    "X2 = np.random.rand(100, 1)\n",
    "y2 = 5 * X2 + np.random.normal(0, 2, (100, 1))\n",
    "\n",
    "# Fit models and calculate R-squared and MSE\n",
    "model1 = LinearRegression().fit(X1, y1)\n",
    "r2_1 = r2_score(y1, model1.predict(X1))\n",
    "mse_1 = mean_squared_error(y1, model1.predict(X1))\n",
    "\n",
    "model2 = LinearRegression().fit(X2, y2)\n",
    "r2_2 = r2_score(y2, model2.predict(X2))\n",
    "mse_2 = mean_squared_error(y2, model2.predict(X2))\n",
    "\n",
    "print(f\"Dataset 1 - R-squared: {r2_1:.4f}, MSE: {mse_1:.4f}\")\n",
    "print(f\"Dataset 2 - R-squared: {r2_2:.4f}, MSE: {mse_2:.4f}\")"
   ]
  },
  {
   "cell_type": "markdown",
   "id": "06b3e0ed-ea1b-4c03-9748-14cc255b33b4",
   "metadata": {},
   "source": [
    "Slide 10: Limitation 9 - Insensitivity to Predictor Importance\n",
    "\n",
    "R-squared and Feature Importance\n",
    "\n",
    "R-squared doesn't provide information about the relative importance of individual predictors. A high R-squared doesn't indicate which variables are most influential in the model. To address this limitation, we can use techniques like feature importance or partial dependence plots. Let's demonstrate this using a simple multiple regression model."
   ]
  },
  {
   "cell_type": "code",
   "execution_count": 11,
   "id": "1de95ce8-3964-4bec-b5bf-eee23bf2a943",
   "metadata": {},
   "outputs": [
    {
     "name": "stdout",
     "output_type": "stream",
     "text": [
      "R-squared: 0.9696\n",
      "Feature 1 importance: 1.6938\n",
      "Feature 2 importance: 0.1502\n",
      "Feature 3 importance: 0.0066\n"
     ]
    }
   ],
   "source": [
    "import numpy as np\n",
    "from sklearn.linear_model import LinearRegression\n",
    "from sklearn.metrics import r2_score\n",
    "from sklearn.inspection import permutation_importance\n",
    "\n",
    "# Generate sample data\n",
    "X = np.random.rand(100, 3)\n",
    "y = 2*X[:, 0] + 0.5*X[:, 1] + 0.1*X[:, 2] + np.random.normal(0, 0.1, 100)\n",
    "\n",
    "# Fit model and calculate R-squared\n",
    "model = LinearRegression().fit(X, y)\n",
    "r2 = r2_score(y, model.predict(X))\n",
    "\n",
    "print(f\"R-squared: {r2:.4f}\")\n",
    "\n",
    "# Calculate feature importance\n",
    "perm_importance = permutation_importance(model, X, y, n_repeats=10, random_state=42)\n",
    "\n",
    "for i, importance in enumerate(perm_importance.importances_mean):\n",
    "    print(f\"Feature {i+1} importance: {importance:.4f}\")"
   ]
  },
  {
   "cell_type": "markdown",
   "id": "09bbeb45-77cb-4276-b987-99e15892969f",
   "metadata": {},
   "source": [
    "Slide 11: Limitation 10 - Assumption of Constant Variance\n",
    "\n",
    "R-squared and Homoscedasticity\n",
    "\n",
    "R-squared assumes homoscedasticity (constant variance) of residuals. When this assumption is violated, R-squared may not accurately represent the model's goodness of fit. Let's create an example where R-squared is high, but the homoscedasticity assumption is violated."
   ]
  },
  {
   "cell_type": "code",
   "execution_count": 12,
   "id": "bda6cf7a-a4cb-42b4-a176-266d948103ea",
   "metadata": {},
   "outputs": [
    {
     "name": "stdout",
     "output_type": "stream",
     "text": [
      "R-squared: 0.8078\n"
     ]
    },
    {
     "data": {
      "image/png": "[encoded data removed]",
      "text/plain": [
       "<Figure size 640x480 with 1 Axes>"
      ]
     },
     "metadata": {},
     "output_type": "display_data"
    }
   ],
   "source": [
    "import numpy as np\n",
    "from sklearn.linear_model import LinearRegression\n",
    "from sklearn.metrics import r2_score\n",
    "import matplotlib.pyplot as plt\n",
    "\n",
    "# Generate heteroscedastic data\n",
    "X = np.linspace(0, 10, 100).reshape(-1, 1)\n",
    "y = 2 * X.flatten() + np.random.normal(0, 0.5 * X.flatten(), 100)\n",
    "\n",
    "# Fit model and calculate R-squared\n",
    "model = LinearRegression().fit(X, y)\n",
    "r2 = r2_score(y, model.predict(X))\n",
    "\n",
    "print(f\"R-squared: {r2:.4f}\")\n",
    "\n",
    "# Plot residuals\n",
    "residuals = y - model.predict(X).flatten()\n",
    "plt.scatter(model.predict(X), residuals)\n",
    "plt.title(\"Residuals vs. Fitted Values\")\n",
    "plt.xlabel(\"Fitted Values\")\n",
    "plt.ylabel(\"Residuals\")\n",
    "plt.show()"
   ]
  },
  {
   "cell_type": "markdown",
   "id": "dd212735-6ab7-4353-a571-dc12716dde23",
   "metadata": {},
   "source": [
    "Slide 12: Limitation 11 - Sensitivity to Influential Points\n",
    "\n",
    "R-squared and Influential Points\n",
    "\n",
    "R-squared can be disproportionately affected by influential points, which are observations that have a large impact on the regression line. These points can lead to misleading R-squared values. Let's demonstrate this by comparing R-squared with and without an influential point."
   ]
  },
  {
   "cell_type": "code",
   "execution_count": 13,
   "id": "cc1b3e30-a494-4ab8-bd19-dcddf4cb0465",
   "metadata": {},
   "outputs": [
    {
     "name": "stdout",
     "output_type": "stream",
     "text": [
      "R-squared (normal): 1.0000\n",
      "R-squared (with influential point): 0.9564\n"
     ]
    }
   ],
   "source": [
    "import numpy as np\n",
    "from sklearn.linear_model import LinearRegression\n",
    "from sklearn.metrics import r2_score\n",
    "\n",
    "# Generate sample data\n",
    "X = np.array([1, 2, 3, 4, 5, 6, 7, 8, 9, 10]).reshape(-1, 1)\n",
    "y = np.array([2, 4, 6, 8, 10, 12, 14, 16, 18, 20])\n",
    "\n",
    "# Add an influential point\n",
    "X_influential = np.vstack([X, [20]])\n",
    "y_influential = np.append(y, [60])\n",
    "\n",
    "# Fit models and calculate R-squared\n",
    "model = LinearRegression().fit(X, y)\n",
    "r2_normal = r2_score(y, model.predict(X))\n",
    "\n",
    "model_influential = LinearRegression().fit(X_influential, y_influential)\n",
    "r2_influential = r2_score(y_influential, model_influential.predict(X_influential))\n",
    "\n",
    "print(f\"R-squared (normal): {r2_normal:.4f}\")\n",
    "print(f\"R-squared (with influential point): {r2_influential:.4f}\")"
   ]
  },
  {
   "cell_type": "markdown",
   "id": "d9b191b3-eb50-49db-ab73-16b77244a0bf",
   "metadata": {},
   "source": [
    "Slide 13: Limitation 12 - Lack of Information on Model Complexity\n",
    "\n",
    "R-squared and Model Complexity\n",
    "\n",
    "R-squared doesn't provide information about model complexity. A more complex model might have a higher R-squared but could be overfitting the data. To address this, we can use adjusted R-squared, which penalizes the addition of unnecessary predictors. Let's compare R-squared and adjusted R-squared for models with different numbers of predictors."
   ]
  },
  {
   "cell_type": "code",
   "execution_count": 14,
   "id": "c44cc7a9-4950-4591-96ab-7e8543c022db",
   "metadata": {},
   "outputs": [
    {
     "name": "stdout",
     "output_type": "stream",
     "text": [
      "Predictors: 1, R-squared: 0.9117, Adjusted R-squared: 0.9108\n",
      "Predictors: 2, R-squared: 0.9666, Adjusted R-squared: 0.9659\n",
      "Predictors: 3, R-squared: 0.9671, Adjusted R-squared: 0.9661\n",
      "Predictors: 4, R-squared: 0.9671, Adjusted R-squared: 0.9658\n",
      "Predictors: 5, R-squared: 0.9674, Adjusted R-squared: 0.9657\n"
     ]
    }
   ],
   "source": [
    "import numpy as np\n",
    "from sklearn.linear_model import LinearRegression\n",
    "from sklearn.metrics import r2_score\n",
    "\n",
    "def adjusted_r2(r2, n, p):\n",
    "    return 1 - (1 - r2) * (n - 1) / (n - p - 1)\n",
    "\n",
    "# Generate sample data\n",
    "np.random.seed(42)\n",
    "X = np.random.rand(100, 5)\n",
    "y = 2*X[:, 0] + 0.5*X[:, 1] + np.random.normal(0, 0.1, 100)\n",
    "\n",
    "# Fit models with different numbers of predictors\n",
    "r2_values = []\n",
    "adj_r2_values = []\n",
    "\n",
    "for i in range(1, 6):\n",
    "    model = LinearRegression().fit(X[:, :i], y)\n",
    "    r2 = r2_score(y, model.predict(X[:, :i]))\n",
    "    adj_r2 = adjusted_r2(r2, len(y), i)\n",
    "    \n",
    "    r2_values.append(r2)\n",
    "    adj_r2_values.append(adj_r2)\n",
    "    \n",
    "    print(f\"Predictors: {i}, R-squared: {r2:.4f}, Adjusted R-squared: {adj_r2:.4f}\")"
   ]
  },
  {
   "cell_type": "markdown",
   "id": "a8e4a2dc-8da2-45b6-b46c-47063c32c996",
   "metadata": {},
   "source": [
    "Slide 14: Real-life Example 1 - House Price Prediction\n",
    "\n",
    "R-squared in House Price Prediction\n",
    "\n",
    "In real estate, R-squared is often used to evaluate models predicting house prices. However, relying solely on R-squared can be misleading. Let's create a simple house price prediction model and examine its limitations."
   ]
  },
  {
   "cell_type": "code",
   "execution_count": 15,
   "id": "ea61e541-1932-4a9d-9294-9a8875ba4ff4",
   "metadata": {},
   "outputs": [
    {
     "name": "stdout",
     "output_type": "stream",
     "text": [
      "R-squared: 0.9443\n",
      "Mean Absolute Error: $35478.36\n"
     ]
    }
   ],
   "source": [
    "import numpy as np\n",
    "from sklearn.linear_model import LinearRegression\n",
    "from sklearn.metrics import r2_score, mean_absolute_error\n",
    "from sklearn.model_selection import train_test_split\n",
    "\n",
    "# Generate synthetic house data\n",
    "np.random.seed(42)\n",
    "size = np.random.randint(1000, 5000, 1000)\n",
    "age = np.random.randint(0, 50, 1000)\n",
    "location = np.random.randint(1, 10, 1000)\n",
    "price = 100000 + 100 * size - 2000 * age + 50000 * location + np.random.normal(0, 50000, 1000)\n",
    "\n",
    "X = np.column_stack((size, age, location))\n",
    "y = price\n",
    "\n",
    "# Split data and fit model\n",
    "X_train, X_test, y_train, y_test = train_test_split(X, y, test_size=0.2, random_state=42)\n",
    "model = LinearRegression().fit(X_train, y_train)\n",
    "\n",
    "# Calculate metrics\n",
    "r2 = r2_score(y_test, model.predict(X_test))\n",
    "mae = mean_absolute_error(y_test, model.predict(X_test))\n",
    "\n",
    "print(f\"R-squared: {r2:.4f}\")\n",
    "print(f\"Mean Absolute Error: ${mae:.2f}\")"
   ]
  },
  {
   "cell_type": "markdown",
   "id": "f7bde734-9d25-4b59-8f49-ed337e4dc207",
   "metadata": {},
   "source": [
    "Slide 15: Real-life Example 2 - Stock Market Prediction\n",
    "\n",
    "Limitations of R-squared in Stock Market Prediction\n",
    "\n",
    "In finance, R-squared is sometimes used to evaluate stock market prediction models. However, its limitations become apparent in this volatile domain. Let's create a simple stock price prediction model to illustrate why R-squared alone is insufficient."
   ]
  },
  {
   "cell_type": "code",
   "execution_count": 16,
   "id": "ab5cde72-4a8c-4f07-8784-a8a572173a35",
   "metadata": {},
   "outputs": [
    {
     "name": "stdout",
     "output_type": "stream",
     "text": [
      "R-squared: 0.9691\n",
      "Volatility (std of daily returns): 0.0100\n"
     ]
    }
   ],
   "source": [
    "import numpy as np\n",
    "from sklearn.linear_model import LinearRegression\n",
    "from sklearn.metrics import r2_score\n",
    "import pandas as pd\n",
    "\n",
    "# Generate synthetic stock data\n",
    "np.random.seed(42)\n",
    "dates = pd.date_range(start='2022-01-01', end='2022-12-31')\n",
    "price = 100 + np.cumsum(np.random.normal(0, 1, len(dates)))\n",
    "volume = np.random.randint(1000000, 10000000, len(dates))\n",
    "\n",
    "df = pd.DataFrame({'Date': dates, 'Price': price, 'Volume': volume})\n",
    "df['PreviousPrice'] = df['Price'].shift(1)\n",
    "df['PriceChange'] = df['Price'] - df['PreviousPrice']\n",
    "df = df.dropna()\n",
    "\n",
    "X = df[['PreviousPrice', 'Volume']]\n",
    "y = df['Price']\n",
    "\n",
    "# Fit model and calculate R-squared\n",
    "model = LinearRegression().fit(X, y)\n",
    "r2 = r2_score(y, model.predict(X))\n",
    "\n",
    "print(f\"R-squared: {r2:.4f}\")\n",
    "\n",
    "# Calculate daily returns\n",
    "df['DailyReturn'] = df['PriceChange'] / df['PreviousPrice']\n",
    "print(f\"Volatility (std of daily returns): {df['DailyReturn'].std():.4f}\")"
   ]
  },
  {
   "cell_type": "markdown",
   "id": "5b18f762-cdbb-479f-814d-35b312eed94f",
   "metadata": {},
   "source": [
    "Slide 16: Additional Resources\n",
    "\n",
    "Further Reading on R-squared Limitations\n",
    "\n",
    "To deepen your understanding of R-squared limitations and alternative metrics, consider exploring these resources:\n",
    "\n",
    "1. \"The Dangers of R-squared\" by Frost, J. (2020) - A comprehensive discussion on R-squared pitfalls.\n",
    "2. \"Beyond R-squared: New Metrics for Regression Models\" by Kvålseth, T. O. (2015) - Explores alternative goodness-of-fit measures.\n",
    "3. \"The Coefficient of Determination R-Squared Is More Informative than SMAPE, MAE, MAPE, MSE and RMSE in Regression Analysis Evaluation\" by Alexander, D. L. J., Tropsha, A., & Winkler, D. A. (2015) - ArXiv:1511.02513 \\[stat.ML\\]\n",
    "\n",
    "These resources provide in-depth analyses of R-squared limitations and suggest alternative approaches for model evaluation in various contexts."
   ]
  },
  {
   "cell_type": "code",
   "execution_count": null,
   "id": "ff52c3ab-7b4a-4346-b1cf-7a5c9297e03d",
   "metadata": {},
   "outputs": [],
   "source": []
  },
  {
   "cell_type": "code",
   "execution_count": null,
   "id": "0c7a0f6a-796c-4926-bb64-57d209c41bfe",
   "metadata": {},
   "outputs": [],
   "source": []
  },
  {
   "cell_type": "code",
   "execution_count": null,
   "id": "db02c87d-ce1a-48a5-bc54-ec9c6e48ed6e",
   "metadata": {},
   "outputs": [],
   "source": []
  }
 ],
 "metadata": {
  "kernelspec": {
   "display_name": "Python 3 (ipykernel)",
   "language": "python",
   "name": "python3"
  },
  "language_info": {
   "codemirror_mode": {
    "name": "ipython",
    "version": 3
   },
   "file_extension": ".py",
   "mimetype": "text/x-python",
   "name": "python",
   "nbconvert_exporter": "python",
   "pygments_lexer": "ipython3",
   "version": "3.12.8"
  }
 },
 "nbformat": 4,
 "nbformat_minor": 5
}
